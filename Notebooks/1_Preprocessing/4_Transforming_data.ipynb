{
 "cells": [
  {
   "cell_type": "markdown",
   "metadata": {
    "id": "HaZHWP3JVlHM"
   },
   "source": [
    "# Transforming the data"
   ]
  },
  {
   "cell_type": "code",
   "execution_count": 1,
   "metadata": {
    "id": "O5DyMx4uR1Tx"
   },
   "outputs": [],
   "source": [
    "# importing essential packages\n",
    "import pandas as pd\n",
    "import math"
   ]
  },
  {
   "cell_type": "markdown",
   "metadata": {
    "id": "IoI5X4B8K853"
   },
   "source": [
    "# 1. `.map()` method\n",
    "\n",
    "- `.map()` method is a great tool to have when it comes to processing & transforming iterables of numeric values\n",
    "- it is a convenient way to perform _element-wise_ transformations and other data cleaning-related operations\n",
    "- this method on Series takes a function object and a sequence of iterables (list, tuple, dictionary, set, or Series) as arguments\n",
    "- any built-in functions that take an argument and returns a value can be used with `.map()`\n",
    "- it returns an iterator (don't worry about this concept for now)\n",
    "- the resulting values (an iterator) can be passed to the `list()` function or `set()` function to create a list or a set\n",
    "\n",
    "Example code:\n",
    "\n",
    "`map(function, iterable)`\n",
    "\n",
    "To extract the result we can use for example: <break> \n",
    "\n",
    "`list(map(function, iterable))`\n",
    "\n",
    "or \n",
    "\n",
    "`set(map(function, iterable))`"
   ]
  },
  {
   "cell_type": "markdown",
   "metadata": {
    "id": "fUbZ8OpSNnuD"
   },
   "source": [
    "### Example 1.1 - Example using For Loops"
   ]
  },
  {
   "cell_type": "code",
   "execution_count": 2,
   "metadata": {
    "id": "QSyAI1VqNv_K"
   },
   "outputs": [],
   "source": [
    "# Run this code\n",
    "our_list = ['This', 'is', 'the', 'first', 'example']"
   ]
  },
  {
   "cell_type": "code",
   "execution_count": 4,
   "metadata": {
    "id": "d34naGboLAqB"
   },
   "outputs": [
    {
     "name": "stdout",
     "output_type": "stream",
     "text": [
      "[4, 2, 3, 5, 7]\n"
     ]
    }
   ],
   "source": [
    "#Step 1: intialize an empty list \"result_loop\" that will store our results later\n",
    "#Step 2: get the length of each variable in the list \"our_list\"\n",
    "#Step 3: append the result to the list \"result_loop\"\n",
    "#Step 4: print the result\n",
    "\n",
    "result_loop = []\n",
    "\n",
    "for word in our_list:\n",
    "    result_loop.append(len(word))\n",
    "\n",
    "print(result_loop)"
   ]
  },
  {
   "cell_type": "markdown",
   "metadata": {
    "id": "399GBuSnOd6M"
   },
   "source": [
    "### Example 1.2 - Example using .map() function"
   ]
  },
  {
   "cell_type": "code",
   "execution_count": 5,
   "metadata": {
    "id": "XIK1GhBTOsmO"
   },
   "outputs": [],
   "source": [
    "# Run this code\n",
    "our_list = ['This', 'is', 'the', 'first', 'example']"
   ]
  },
  {
   "cell_type": "code",
   "execution_count": 1,
   "metadata": {
    "id": "p2JBFgCVMiiP"
   },
   "outputs": [
    {
     "ename": "NameError",
     "evalue": "name 'our_list' is not defined",
     "output_type": "error",
     "traceback": [
      "\u001b[1;31m---------------------------------------------------------------------------\u001b[0m",
      "\u001b[1;31mNameError\u001b[0m                                 Traceback (most recent call last)",
      "\u001b[1;32m<ipython-input-1-1e5e8409b386>\u001b[0m in \u001b[0;36m<module>\u001b[1;34m\u001b[0m\n\u001b[0;32m      3\u001b[0m \u001b[1;31m# Step 3: Assign the result to the variable name \"result\" to print it to the screen\u001b[0m\u001b[1;33m\u001b[0m\u001b[1;33m\u001b[0m\u001b[1;33m\u001b[0m\u001b[0m\n\u001b[0;32m      4\u001b[0m \u001b[1;33m\u001b[0m\u001b[0m\n\u001b[1;32m----> 5\u001b[1;33m \u001b[0mresult_map\u001b[0m \u001b[1;33m=\u001b[0m \u001b[0mlist\u001b[0m\u001b[1;33m(\u001b[0m\u001b[0mmap\u001b[0m\u001b[1;33m(\u001b[0m\u001b[0mlen\u001b[0m\u001b[1;33m,\u001b[0m \u001b[0mour_list\u001b[0m\u001b[1;33m)\u001b[0m\u001b[1;33m)\u001b[0m\u001b[1;33m\u001b[0m\u001b[1;33m\u001b[0m\u001b[0m\n\u001b[0m\u001b[0;32m      6\u001b[0m \u001b[0mprint\u001b[0m\u001b[1;33m(\u001b[0m\u001b[0mresult_map\u001b[0m\u001b[1;33m)\u001b[0m\u001b[1;33m\u001b[0m\u001b[1;33m\u001b[0m\u001b[0m\n",
      "\u001b[1;31mNameError\u001b[0m: name 'our_list' is not defined"
     ]
    }
   ],
   "source": [
    "# Step 1: Use the .map() method to get the length of the words in our_list\n",
    "# Step 2: Pass the list() function to create a list of resulting values\n",
    "# Step 3: Assign the result to the variable name \"result\" to print it to the screen\n",
    "\n",
    "result_map = list(map(len, our_list))\n",
    "print(result_map)"
   ]
  },
  {
   "cell_type": "markdown",
   "metadata": {
    "id": "mBFkzjR2NHbI"
   },
   "source": [
    "In the above example the `.map()` method iterates over `our_list`, applies the function on each element and returns the length of the strings as a new list."
   ]
  },
  {
   "cell_type": "markdown",
   "metadata": {
    "id": "6zu5YGGzPy9j"
   },
   "source": [
    "Which one do you think is neater and shorter?\n",
    "\n",
    "```python\n",
    "result_loop = []\n",
    "\n",
    "for word in our_list:\n",
    "  result_loops.append(len(word))\n",
    "\n",
    "print(result_loop)\n",
    "```\n",
    "vs. \n",
    "\n",
    "```python\n",
    "result_map = list(map(len, our_list))\n",
    "print(result_map)\n",
    "```\n",
    "\n",
    "In the programming world, it is cleaner and much more concise and sophisticated to use ``map()`` instead of for-loops. On top of that, with `map()` you can guarantee that the original sequence won't be acccidentally mutated or changed, since `map()` always returns a sequence of the results and leads to fewer errors in code. \n",
    "\n",
    "Feel free to check out [this](https://stackoverflow.com/questions/1975250/when-should-i-use-a-map-instead-of-a-for-loop#:~:text=4%20Answers&text=map%20is%20useful%20when%20you,loop%20and%20constructing%20a%20list.) on stackoverflow, where the advantages of using map over for-loops are discussed.\n",
    "\n",
    "\n"
   ]
  },
  {
   "cell_type": "markdown",
   "metadata": {
    "id": "hEUOIZQ_NMSr"
   },
   "source": [
    "### Task 1\n",
    "Now, let's create a function `triple` and a Pandas Series `numbers` which will be our iterable."
   ]
  },
  {
   "cell_type": "code",
   "execution_count": 6,
   "metadata": {
    "id": "qd53ilcINT5c"
   },
   "outputs": [],
   "source": [
    "# Run this code \n",
    "def triple(x):\n",
    "    return x * 3"
   ]
  },
  {
   "cell_type": "code",
   "execution_count": 7,
   "metadata": {
    "id": "O5vzaI7mNVgi"
   },
   "outputs": [],
   "source": [
    "# Run this code\n",
    "numbers = pd.Series([15, 4, 8, 45, 36, 7])"
   ]
  },
  {
   "cell_type": "code",
   "execution_count": 8,
   "metadata": {
    "id": "NnQoeGVwNW0v"
   },
   "outputs": [
    {
     "name": "stdout",
     "output_type": "stream",
     "text": [
      "0     45\n",
      "1     12\n",
      "2     24\n",
      "3    135\n",
      "4    108\n",
      "5     21\n",
      "dtype: int64\n"
     ]
    }
   ],
   "source": [
    "# TASK 1 >>>> Apply the .map() method with the function triple on our Pandas Series 'numbers' and store it in the variable result_2 \n",
    "#             Print result_2 (the result should be the numbers multiply by 3)\n",
    "#             Think about the three different steps performed in Example 1\n",
    "\n",
    "### Start your code below ###"
   ]
  },
  {
   "cell_type": "markdown",
   "metadata": {
    "id": "xRhso3OihtKh"
   },
   "source": [
    "# 2. .filter() method\n",
    "\n",
    "- similar to `.map()`, but instead of any function, `.filter()` takes a Boolean-valued function (a function that returns True or False based on the input data) instead of any built-in functions and a sequence of iterables (list, tuple, dictionary, set, or Series) as arugments\n",
    "- returns the items of the intput data which the Boolean-valued function returns `True`\n",
    "- the Boolean-valued function can be used-defined function\n"
   ]
  },
  {
   "cell_type": "markdown",
   "metadata": {
    "id": "8RBmqk8Nhzky"
   },
   "source": [
    "Imagine there is a list with positive and negative numbers"
   ]
  },
  {
   "cell_type": "code",
   "execution_count": 10,
   "metadata": {
    "id": "1FVY5AzGhwR8"
   },
   "outputs": [],
   "source": [
    "# Run this code\n",
    "list_mixed = [-1,0,2,24,-42,-5,30,99]"
   ]
  },
  {
   "cell_type": "code",
   "execution_count": 11,
   "metadata": {
    "id": "53f6irOGiNTy"
   },
   "outputs": [],
   "source": [
    "# Run this code\n",
    "def criteria(x): \n",
    "    return x >= 0"
   ]
  },
  {
   "cell_type": "markdown",
   "metadata": {
    "id": "4VddQZIFrhj_"
   },
   "source": [
    "With the help of filter and our own user-defined function we can filter out the negative values and be left with only positive values."
   ]
  },
  {
   "cell_type": "code",
   "execution_count": 12,
   "metadata": {
    "id": "Wn6nO9FIiGMn"
   },
   "outputs": [
    {
     "name": "stdout",
     "output_type": "stream",
     "text": [
      "[0, 2, 24, 30, 99]\n"
     ]
    }
   ],
   "source": [
    "list_positive = list(filter(criteria, list_mixed))\n",
    "print(list_positive)"
   ]
  },
  {
   "cell_type": "markdown",
   "metadata": {
    "id": "6E3BXMuFRH12"
   },
   "source": [
    "# 3. `.apply()` method\n",
    "\n",
    "- this method applies a function along an axis of the DataFrame $^{1}$ \n",
    "- it also works elementwise but is suited to more complex functions and operations\n",
    "- it accepts user-defined functions which apply a transformation/aggregation on a DataFrame (or Series) as well\n",
    "\n",
    "You can find a nice comparison of `.map()` and `.apply()` methods and when to use them in [this article on stackoverflow](https://stackoverflow.com/questions/19798153/difference-between-map-applymap-and-apply-methods-in-pandas)."
   ]
  },
  {
   "cell_type": "markdown",
   "metadata": {
    "id": "mXy9mJn2Ri7R"
   },
   "source": [
    "### Example 3.1"
   ]
  },
  {
   "cell_type": "code",
   "execution_count": 13,
   "metadata": {
    "id": "WQ4P8h2wRJoj"
   },
   "outputs": [
    {
     "name": "stdout",
     "output_type": "stream",
     "text": [
      "   student_id first_name  age   country  score\n",
      "0           1     Robert   30  Slovakia     26\n",
      "1           2       Jana   29    Sweden     27\n",
      "2           3     Martin   31    Sweden     26\n",
      "3           4   Kristina   26   Germany     30\n",
      "4           5      Peter   33   Austria     22\n",
      "5           6     Nikola   25       USA     23\n",
      "6           7     Renato   35    Brazil     26\n"
     ]
    }
   ],
   "source": [
    "# Run this code\n",
    "students = [(1, 'Robert', 30, 'Slovakia', 26),\n",
    "           (2, 'Jana', 29, 'Sweden' , 27),\n",
    "           (3, 'Martin', 31, 'Sweden', 26),\n",
    "           (4, 'Kristina', 26,'Germany' , 30),\n",
    "           (5, 'Peter', 33, 'Austria' , 22),\n",
    "           (6, 'Nikola', 25, 'USA', 23),\n",
    "           (7, 'Renato', 35, 'Brazil', 26)]\n",
    "\n",
    "students_1 = pd.DataFrame(students, columns= ['student_id', 'first_name', 'age', 'country', 'score'])\n",
    "print(students_1)"
   ]
  },
  {
   "cell_type": "code",
   "execution_count": 14,
   "metadata": {
    "id": "kpUwG-U4RhCl"
   },
   "outputs": [],
   "source": [
    "# Run this code to create a regular function\n",
    "\n",
    "def score_func(x): \n",
    "    if x < 25: \n",
    "        return \"Retake\" \n",
    "    else: \n",
    "        return \"Pass\""
   ]
  },
  {
   "cell_type": "code",
   "execution_count": 15,
   "metadata": {
    "id": "drgm_CYwRyat"
   },
   "outputs": [
    {
     "name": "stdout",
     "output_type": "stream",
     "text": [
      "   student_id first_name  age   country  score  result\n",
      "0           1     Robert   30  Slovakia     26    Pass\n",
      "1           2       Jana   29    Sweden     27    Pass\n",
      "2           3     Martin   31    Sweden     26    Pass\n",
      "3           4   Kristina   26   Germany     30    Pass\n",
      "4           5      Peter   33   Austria     22  Retake\n",
      "5           6     Nikola   25       USA     23  Retake\n",
      "6           7     Renato   35    Brazil     26    Pass\n"
     ]
    }
   ],
   "source": [
    "# Use .apply() along with score_func that \n",
    "students_1['result'] = students_1.score.apply(score_func)\n",
    "print(students_1)"
   ]
  },
  {
   "cell_type": "markdown",
   "metadata": {
    "id": "4bU-g6BcWOEL"
   },
   "source": [
    "### Example 4.0\n",
    "\n",
    "As we already know, regular functions are created using the `def` keyword. These type of functions can have any number of arguments and expressions."
   ]
  },
  {
   "cell_type": "code",
   "execution_count": 16,
   "metadata": {
    "id": "lfnDZw_3Sc0n"
   },
   "outputs": [],
   "source": [
    "# Example of regular function\n",
    "def multi_add(x):\n",
    "    return x * 2 + 5"
   ]
  },
  {
   "cell_type": "code",
   "execution_count": 17,
   "metadata": {
    "id": "VYJO-r-NSelU"
   },
   "outputs": [
    {
     "name": "stdout",
     "output_type": "stream",
     "text": [
      "15\n"
     ]
    }
   ],
   "source": [
    "result_1 = multi_add(5)\n",
    "print(result_1)"
   ]
  },
  {
   "cell_type": "markdown",
   "metadata": {
    "id": "2-ycOiYyS5vZ"
   },
   "source": [
    "# 4. Lambda Function\n",
    "- an anonymous function (it means it can be defined without a name)\n",
    "- the `def` keyword is not necessary with a lambda function\n",
    "- lambda functions can have any number of parameters, but the function body can only **contain one expression** (that means multiple statements are not allowed in the body of a lambda function) = it is used for *_one-line expressions_*\n",
    "- it returns a function object which can be assigned to variable\n",
    "\n",
    "General syntax: `lambda x: x`\n",
    "\n",
    "\n",
    "\n",
    "\n",
    "### Example 4.1"
   ]
  },
  {
   "cell_type": "code",
   "execution_count": 18,
   "metadata": {
    "id": "Med1sy9hTSqJ"
   },
   "outputs": [
    {
     "name": "stdout",
     "output_type": "stream",
     "text": [
      "15\n"
     ]
    }
   ],
   "source": [
    "our_lambda = lambda x: x * 2 + 5\n",
    "print(our_lambda(5))"
   ]
  },
  {
   "cell_type": "markdown",
   "metadata": {
    "id": "OEBiP0tvTZEH"
   },
   "source": [
    "This simple lambda function takes an input `x` (in our case number 5), multiplies it by `2` and adds `5`. <br>\n",
    "\n",
    "Lambda functions are commonly used along `.apply()` method and can be really useful. <br>\n",
    "\n",
    "### Example 4.2\n",
    "\n",
    "Imagine that the scores of students above have not been correctly recorded and we need to multiply them by 10. \n",
    "\n",
    "Use a lambda function along with `apply()` and assign it to the specific column of the dataset ('score'). "
   ]
  },
  {
   "cell_type": "code",
   "execution_count": 19,
   "metadata": {
    "id": "5Bi9lINmTp0k"
   },
   "outputs": [
    {
     "name": "stdout",
     "output_type": "stream",
     "text": [
      "   student_id first_name  age   country  score  result\n",
      "0           1     Robert   30  Slovakia    260    Pass\n",
      "1           2       Jana   29    Sweden    270    Pass\n",
      "2           3     Martin   31    Sweden    260    Pass\n",
      "3           4   Kristina   26   Germany    300    Pass\n",
      "4           5      Peter   33   Austria    220  Retake\n",
      "5           6     Nikola   25       USA    230  Retake\n",
      "6           7     Renato   35    Brazil    260    Pass\n"
     ]
    }
   ],
   "source": [
    "students_1.score = students_1.score.apply(lambda x: x * 10)\n",
    "print(students_1)"
   ]
  },
  {
   "cell_type": "markdown",
   "metadata": {
    "id": "ydfml2X3ULGn"
   },
   "source": [
    "### Task 2"
   ]
  },
  {
   "cell_type": "code",
   "execution_count": 20,
   "metadata": {
    "id": "LPJ1EfEXUJra"
   },
   "outputs": [
    {
     "name": "stdout",
     "output_type": "stream",
     "text": [
      "   student_id first_name  age   country  score  result\n",
      "0           1     Robert   30  SLOVAKIA    260    Pass\n",
      "1           2       Jana   29    SWEDEN    270    Pass\n",
      "2           3     Martin   31    SWEDEN    260    Pass\n",
      "3           4   Kristina   26   GERMANY    300    Pass\n",
      "4           5      Peter   33   AUSTRIA    220  Retake\n",
      "5           6     Nikola   25       USA    230  Retake\n",
      "6           7     Renato   35    BRAZIL    260    Pass\n"
     ]
    }
   ],
   "source": [
    "# TASK 2 >>>> Use the .apply() method on column 'country' along with lambda to make words uppercase \n",
    "#             Do not forget assign it to this column\n",
    "\n",
    "### Start your code below ###"
   ]
  },
  {
   "cell_type": "markdown",
   "metadata": {
    "id": "vZXur84bVITy"
   },
   "source": [
    "We can use lambda functions to simplify Example 3.1 like this:"
   ]
  },
  {
   "cell_type": "code",
   "execution_count": 21,
   "metadata": {
    "id": "JPro1vVzUu4k"
   },
   "outputs": [],
   "source": [
    "# Run this code\n",
    "students = [(1, 'Robert', 30, 'Slovakia', 26),\n",
    "           (2, 'Jana', 29, 'Sweden' , 27),\n",
    "           (3, 'Martin', 31, 'Sweden', 26),\n",
    "           (4, 'Kristina', 26,'Germany' , 30),\n",
    "           (5, 'Peter', 33, 'Austria' , 22),\n",
    "           (6, 'Nikola', 25, 'USA', 23),\n",
    "           (7, 'Renato', 35, 'Brazil', 26)]\n",
    "\n",
    "students_1 = pd.DataFrame(students, columns= ['student_id', 'first_name', 'age', 'country', 'score'])"
   ]
  },
  {
   "cell_type": "code",
   "execution_count": 22,
   "metadata": {
    "id": "T3ZpBBXdVT6j"
   },
   "outputs": [
    {
     "name": "stdout",
     "output_type": "stream",
     "text": [
      "   student_id first_name  age   country  score  result\n",
      "0           1     Robert   30  Slovakia     26    Pass\n",
      "1           2       Jana   29    Sweden     27    Pass\n",
      "2           3     Martin   31    Sweden     26    Pass\n",
      "3           4   Kristina   26   Germany     30    Pass\n",
      "4           5      Peter   33   Austria     22  Retake\n",
      "5           6     Nikola   25       USA     23  Retake\n",
      "6           7     Renato   35    Brazil     26    Pass\n"
     ]
    }
   ],
   "source": [
    "# A Lambda function is used instead of the custom defined function \"score_func\"\n",
    "\n",
    "students_1['result'] = students_1.score.apply(lambda x: \"Pass\" if (x > 25) else \"Retake\")\n",
    "print(students_1)"
   ]
  },
  {
   "cell_type": "markdown",
   "metadata": {
    "id": "xZwvd0n5tboh"
   },
   "source": [
    "Did you know we can combine the `.map()` and `.filter()` methods? Since `.filter()` returns a selected iterable based on certain criteria, the output of `.filter()` can be our input for the `.map()` method.\n",
    "\n",
    "In order to avoid a negative number as an argument for `math.sqrt()` which will result in a `ValueError`, we want to filter out the negative numbers before we apply the `math.sqrt()` method.\n"
   ]
  },
  {
   "cell_type": "code",
   "execution_count": 23,
   "metadata": {
    "id": "0PwkuDWxt6_u"
   },
   "outputs": [],
   "source": [
    "# Run this code\n",
    "list_mixed = [-1,0,2,24,-42,-5,30,99]"
   ]
  },
  {
   "cell_type": "code",
   "execution_count": 24,
   "metadata": {
    "id": "mmT-_iN0uBxk"
   },
   "outputs": [],
   "source": [
    "# Run this code\n",
    "def criteria(x): \n",
    "    return x >= 0"
   ]
  },
  {
   "cell_type": "code",
   "execution_count": 25,
   "metadata": {
    "colab": {
     "base_uri": "https://localhost:8080/"
    },
    "id": "hT1Cbjx9uD-k",
    "outputId": "3455fbac-c207-49f7-b7bd-28f0e99a7fc7"
   },
   "outputs": [
    {
     "name": "stdout",
     "output_type": "stream",
     "text": [
      "[0.0, 1.4142135623730951, 4.898979485566356, 5.477225575051661, 9.9498743710662]\n"
     ]
    }
   ],
   "source": [
    "list_sqrt = list(map(math.sqrt, filter(criteria, list_mixed)))\n",
    "print(list_sqrt)"
   ]
  },
  {
   "cell_type": "markdown",
   "metadata": {
    "id": "_cUVPOVZu9ym"
   },
   "source": [
    "### Optional: Task 3"
   ]
  },
  {
   "cell_type": "code",
   "execution_count": 2,
   "metadata": {
    "colab": {
     "base_uri": "https://localhost:8080/"
    },
    "id": "X9NBhdQQvLvV",
    "outputId": "91afcf22-0444-4e6d-f56b-ad7eb20c4cc2"
   },
   "outputs": [
    {
     "ename": "NameError",
     "evalue": "name 'list_sqrt' is not defined",
     "output_type": "error",
     "traceback": [
      "\u001b[1;31m---------------------------------------------------------------------------\u001b[0m",
      "\u001b[1;31mNameError\u001b[0m                                 Traceback (most recent call last)",
      "\u001b[1;32m<ipython-input-2-1bbef8a8da81>\u001b[0m in \u001b[0;36m<module>\u001b[1;34m\u001b[0m\n\u001b[0;32m      9\u001b[0m     \u001b[1;32mreturn\u001b[0m \u001b[0mx\u001b[0m \u001b[1;33m>=\u001b[0m \u001b[1;36m5\u001b[0m\u001b[1;33m\u001b[0m\u001b[1;33m\u001b[0m\u001b[0m\n\u001b[0;32m     10\u001b[0m \u001b[1;33m\u001b[0m\u001b[0m\n\u001b[1;32m---> 11\u001b[1;33m \u001b[0mlist_round\u001b[0m \u001b[1;33m=\u001b[0m \u001b[0mlist\u001b[0m\u001b[1;33m(\u001b[0m\u001b[0mmap\u001b[0m\u001b[1;33m(\u001b[0m\u001b[0mround\u001b[0m\u001b[1;33m,\u001b[0m \u001b[0mfilter\u001b[0m\u001b[1;33m(\u001b[0m\u001b[0mcriteria\u001b[0m\u001b[1;33m,\u001b[0m \u001b[0mlist_sqrt\u001b[0m\u001b[1;33m)\u001b[0m\u001b[1;33m)\u001b[0m\u001b[1;33m)\u001b[0m\u001b[1;33m\u001b[0m\u001b[1;33m\u001b[0m\u001b[0m\n\u001b[0m\u001b[0;32m     12\u001b[0m \u001b[0mprint\u001b[0m\u001b[1;33m(\u001b[0m\u001b[0mlist_round\u001b[0m\u001b[1;33m)\u001b[0m\u001b[1;33m\u001b[0m\u001b[1;33m\u001b[0m\u001b[0m\n",
      "\u001b[1;31mNameError\u001b[0m: name 'list_sqrt' is not defined"
     ]
    }
   ],
   "source": [
    "# TASK 3 >>>> With the help of .map() and .filter(),\n",
    "#             round up any number that is bigger than 5 from the list \"list_sqrt\" to the next whole digit.\n",
    "#             To round up the number, you can use round().\n",
    "#             Don't forget to write your user-defined function as your criteria to filter out the \"not desirable\" numbers\n",
    "\n",
    "### Start your code below ###"
   ]
  },
  {
   "cell_type": "markdown",
   "metadata": {},
   "source": [
    "# References\n",
    "\n",
    "$^{1}$ pandas. pandas.DataFrame.apply. [ONLINE] Available at: https://pandas.pydata.org/pandas-docs/stable/reference/api/pandas.DataFrame.apply.html#pandas-dataframe-apply. [Accessed 14 September 2020].\n",
    "\n",
    "Stackoverflow. Difference between map, applymap and apply methods in Pandas. [ONLINE] Available at: https://stackoverflow.com/questions/19798153/difference-between-map-applymap-and-apply-methods-in-pandas. [Accessed 14 September 2020].\n",
    "\n",
    "Material adapted for RBI internal purposes with full permissions from original authors. Source: https://github.com/zatkopatrik/authentic-data-science"
   ]
  }
 ],
 "metadata": {
  "colab": {
   "collapsed_sections": [],
   "name": "[New]4. Transforming_data",
   "provenance": []
  },
  "kernelspec": {
   "display_name": "Python 3",
   "language": "python",
   "name": "python3"
  },
  "language_info": {
   "codemirror_mode": {
    "name": "ipython",
    "version": 3
   },
   "file_extension": ".py",
   "mimetype": "text/x-python",
   "name": "python",
   "nbconvert_exporter": "python",
   "pygments_lexer": "ipython3",
   "version": "3.7.1"
  }
 },
 "nbformat": 4,
 "nbformat_minor": 4
}
