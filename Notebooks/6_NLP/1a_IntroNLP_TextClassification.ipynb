{
 "cells": [
  {
   "cell_type": "markdown",
   "metadata": {
    "application/vnd.databricks.v1+cell": {
     "inputWidgets": {},
     "nuid": "6e10d475-ee1f-4d75-8b84-1c1c13aded02",
     "showTitle": false,
     "title": ""
    }
   },
   "source": [
    "## Introduction to Natural Language Processing tasks  "
   ]
  },
  {
   "cell_type": "code",
   "execution_count": null,
   "metadata": {
    "application/vnd.databricks.v1+cell": {
     "inputWidgets": {},
     "nuid": "23507d92-bdf5-4352-abd7-dfe108707c5d",
     "showTitle": false,
     "title": ""
    }
   },
   "outputs": [],
   "source": [
    "!pip install -U eli5"
   ]
  },
  {
   "cell_type": "code",
   "execution_count": null,
   "metadata": {
    "application/vnd.databricks.v1+cell": {
     "inputWidgets": {},
     "nuid": "8f8940c4-ebcc-4c9d-8c90-730c9fb6379b",
     "showTitle": false,
     "title": ""
    }
   },
   "outputs": [],
   "source": [
    "import re\n",
    "import os\n",
    "import numpy as np\n",
    "import matplotlib.pyplot as plt\n",
    "import seaborn as sn\n",
    "import pandas as pd\n",
    "%matplotlib inline\n",
    "\n",
    "from sklearn.feature_extraction.text import CountVectorizer\n",
    "from sklearn.feature_extraction.text import TfidfTransformer\n",
    "\n",
    "from sklearn.pipeline import Pipeline\n",
    "from sklearn.datasets import fetch_20newsgroups\n",
    "\n",
    "from sklearn.naive_bayes import MultinomialNB\n",
    "from sklearn.linear_model import LogisticRegression\n",
    "from sklearn.svm import LinearSVC\n",
    "\n",
    "from sklearn.model_selection import GridSearchCV\n",
    "from sklearn.metrics import classification_report, confusion_matrix\n",
    "\n",
    "import eli5"
   ]
  },
  {
   "cell_type": "markdown",
   "metadata": {
    "application/vnd.databricks.v1+cell": {
     "inputWidgets": {},
     "nuid": "f7fc9c19-26eb-4357-a5e7-abf6bd48fc97",
     "showTitle": false,
     "title": ""
    }
   },
   "source": [
    "### Text Classification\n",
    "#### \"Traditional\" Text Classification with Scikit-learn\n",
    "In this notebook, we're going to experiment with a few \"traditional\" approaches to text classification. These approaches pre-date the deep learning revolution in Natural Language Processing, but are often quick and effective ways of training a text classifier.\n",
    "\n",
    "#### Data\n",
    "We are going to work with the **20 Newsgroups data set**, a classic collection of text documents that is often used as a benchmark for text classification models. The set contains texts about various topics, ranging from computer hardward to religion. Some of the topics are closely related to each other (such as \"IBM PC hardware\" and \"Mac hardware\"), while others are very different (such as \"religion\" or \"hockey\"). The 20 Newsgroups comes shipped with the Scikit-learn machine learning library, our main tool for this exercise. It has been split into training set of 11,314 texts and a test set of 7,532 texts."
   ]
  },
  {
   "cell_type": "code",
   "execution_count": null,
   "metadata": {
    "application/vnd.databricks.v1+cell": {
     "inputWidgets": {},
     "nuid": "0adbfdb2-f49b-447a-ae35-c6ec0d48efa4",
     "showTitle": false,
     "title": ""
    }
   },
   "outputs": [],
   "source": [
    "train_data = fetch_20newsgroups(subset='train', shuffle=True, random_state=42)\n",
    "test_data = fetch_20newsgroups(subset='test')\n",
    "\n",
    "print(\"Training texts:\", len(train_data.data))\n",
    "print(\"Test texts:\", len(test_data.data))"
   ]
  },
  {
   "cell_type": "code",
   "execution_count": null,
   "metadata": {
    "application/vnd.databricks.v1+cell": {
     "inputWidgets": {},
     "nuid": "227e5569-2a4a-44f8-8193-43a92a926e97",
     "showTitle": false,
     "title": ""
    }
   },
   "outputs": [],
   "source": [
    "train_data.target_names"
   ]
  },
  {
   "cell_type": "code",
   "execution_count": null,
   "metadata": {
    "application/vnd.databricks.v1+cell": {
     "inputWidgets": {},
     "nuid": "899ac619-2253-4d83-80d4-1f0847bd47dc",
     "showTitle": false,
     "title": ""
    }
   },
   "outputs": [],
   "source": [
    "text_num = 10\n",
    "print(f\"The topic is {train_data.target_names[train_data.target[text_num]]}\")\n",
    "print()\n",
    "print(train_data.data[text_num])"
   ]
  },
  {
   "cell_type": "markdown",
   "metadata": {
    "application/vnd.databricks.v1+cell": {
     "inputWidgets": {},
     "nuid": "38b3f403-9ca8-4ae5-8a4a-135c2d5b85f4",
     "showTitle": false,
     "title": ""
    }
   },
   "source": [
    "#### Preprocessing  \n",
    "\n",
    "The first step in the development of any NLP model is text preprocessing. This means we're going to transform our texts from word sequences to feature vectors. These feature vectors each contain the values of' a large number of features.  \n",
    "\n",
    "In this experiment, we're going to work with so-called **\"bag-of-word\"** approaches. Bag-of-word methods treat every text as an unordered collection of words (or optionally, _ngrams_), and the raw feature vectors simply tell us how often each word (or ngram) occurs in a text. In Scikit-learn, we can construct these raw feature vectors with `CountVectorizer`, which tokenizes a text and counts the number of times any given text contains every token in the corpus.  \n",
    "\n",
    "However, these raw counts are not very informative yet. This is because the raw feature vectors of most texts in the same language will be very similar. For example, most texts in English contain many instances of relatively uninformative words, such as a, the or be. Instead, what we're interested in are words like computer or hardware: words that occur often in one text, but not very often in the corpus as a whole. Therefore we're going to weight all features by their **tf-idf score**, which counts the number of times every token appears in a text and divides it by (the logarithm of) the percentage of corpus documents that contain that token. This weighting is performed by Scikit-learn's `TfidfTransformer`.  \n",
    "\n",
    "To obtain the weighted feature vectors, we combine the `CountVectorizer` and `TfidfTransformer` in a Pipeline, and fit this pipeline on the training data. We then transform both the training texts and the test texts to a collection of such weighted feature vectors. Scikit-learn also has a `TfidfVectorizer`, which achieves the same result as our pipeline."
   ]
  },
  {
   "cell_type": "code",
   "execution_count": null,
   "metadata": {
    "application/vnd.databricks.v1+cell": {
     "inputWidgets": {},
     "nuid": "178ce5dd-d61b-4507-b7d3-54c59248b74a",
     "showTitle": false,
     "title": ""
    }
   },
   "outputs": [],
   "source": [
    "def clean_and_tokenize_text(news_data):\n",
    "    \"\"\"Cleans some issues with the text data\n",
    "    Args:\n",
    "        news_data: list of text strings\n",
    "    Returns:\n",
    "        For each text string, an array of tokenized words are returned in a list\n",
    "    \"\"\"\n",
    "    cleaned_text = []\n",
    "    for text in news_data:\n",
    "        x = re.sub('[^\\w]|_', ' ', text)  # only keep numbers and letters and spaces\n",
    "        x = x.lower()\n",
    "        x = re.sub(r'[^\\x00-\\x7f]',r'', x)  # remove non ascii texts\n",
    "        tokens = [y for y in x.split(' ') if y] # remove empty words\n",
    "        tokens = ['[number]' if x.isdigit() else x for x in tokens]\n",
    "        tokens =  ' '.join(tokens)\n",
    "        # As an exercise, try stemming each token using python's nltk package.\n",
    "        cleaned_text.append(tokens)\n",
    "    return cleaned_text\n",
    "\n",
    "train = clean_and_tokenize_text(train_data.data)\n",
    "test = clean_and_tokenize_text(test_data.data)"
   ]
  },
  {
   "cell_type": "code",
   "execution_count": null,
   "metadata": {
    "application/vnd.databricks.v1+cell": {
     "inputWidgets": {},
     "nuid": "d6e6f056-cdae-4511-8d24-07ccda5bae0d",
     "showTitle": false,
     "title": ""
    }
   },
   "outputs": [],
   "source": [
    "preprocessing = Pipeline([\n",
    "    ('vect', CountVectorizer()),\n",
    "    ('tfidf', TfidfTransformer())\n",
    "])\n",
    "  \n",
    "print(\"Preprocessing training data...\")\n",
    "#train_preprocessed = preprocessing.fit_transform(train_data.data)\n",
    "train_preprocessed = preprocessing.fit_transform(train)\n",
    "\n",
    "print(\"Preprocessing test data...\")\n",
    "#test_preprocessed = preprocessing.transform(test_data.data)\n",
    "test_preprocessed = preprocessing.transform(test)"
   ]
  },
  {
   "cell_type": "markdown",
   "metadata": {
    "application/vnd.databricks.v1+cell": {
     "inputWidgets": {},
     "nuid": "6fbd501b-a6d4-4c51-bbda-a09f3c419fde",
     "showTitle": false,
     "title": ""
    }
   },
   "source": [
    "#### Training\n",
    "\n",
    "Next, we train a text classifier on the preprocessed training data. We're going to experiment with three classic text classification models: Naive Bayes, Support Vector Machines and Logistic Regression. \n",
    "\n",
    "[Naive Bayes classifiers](https://en.wikipedia.org/wiki/Naive_Bayes_classifier) are extremely simple classifiers that assume all features are independent of each other. They just learn how frequent all classes are and how frequently each feature occurs in a class. To classify a new text, they simply multiply the probabilities for every feature \\\\(x_i\\\\) given each class \\\\(C\\\\) and pick the class that gives the highest probability: \n",
    "\n",
    "$$ \\hat y = argmax_k \\, [ \\, p(C_k) \\prod_{i=1}^n p(x_i \\mid C_k)\\, ]  $$\n",
    "\n",
    "Naive Bayes Classifiers are very quick to train, but usually fall behind in terms of performance.\n",
    "\n",
    "[Support Vector Machines](https://en.wikipedia.org/wiki/Support_vector_machine) are much more advanced than Naive Bayes classifiers. They try to find the hyperplane in the feature space that best separates the data from the different classes. They do so by picking the hyperplane that maximizes the distance to the nearest data point on each side. When the classes are not linearly separable, SVMs map the data into a higher-dimensional space where a linear separation can hopefully be found. SVMs often achieve very good performance in text classification tasks.\n",
    "\n",
    "[Logistic Regression models](https://en.wikipedia.org/wiki/Logistic_regression), finally, model the log-odds \\\\(l\\\\), or \\\\(\\log[p\\,/\\,(1-p)]\\\\), of a class as a linear model and estimate the parameters \\\\(\\beta\\\\) of the model during training: \n",
    "\n",
    "\\\\(l = \\beta_0 + \\sum_{i=1}^n \\beta_i x_i\\\\)\n",
    "\n",
    "Like SVMs, they often achieve great performance in text classification.\n",
    "\n",
    "##### Simple training\n",
    "We train our three classifiers in Scikit-learn with the fit method, giving it the preprocessed training text and the correct classes for each text as parameters."
   ]
  },
  {
   "cell_type": "code",
   "execution_count": null,
   "metadata": {
    "application/vnd.databricks.v1+cell": {
     "inputWidgets": {},
     "nuid": "a79ef7a6-cddc-439b-ac3e-0f2732602e8a",
     "showTitle": false,
     "title": ""
    }
   },
   "outputs": [],
   "source": [
    "nb_classifier = MultinomialNB()\n",
    "svm_classifier = LinearSVC()\n",
    "lr_classifier = LogisticRegression(multi_class=\"ovr\")\n",
    "\n",
    "print(\"Training Naive Bayes classifier...\")\n",
    "nb_classifier.fit(train_preprocessed, train_data.target)\n",
    "\n",
    "print(\"Training SVM classifier...\")\n",
    "svm_classifier.fit(train_preprocessed, train_data.target)\n",
    "\n",
    "print(\"Training Logistic Regression classifier...\")\n",
    "lr_classifier.fit(train_preprocessed, train_data.target)"
   ]
  },
  {
   "cell_type": "markdown",
   "metadata": {
    "application/vnd.databricks.v1+cell": {
     "inputWidgets": {},
     "nuid": "18f29e7b-32ba-4b19-8e00-4da9c9fb2f2f",
     "showTitle": false,
     "title": ""
    }
   },
   "source": [
    "Let's find out how well each classifier performs. To find out we have each classifier `predict` the label for all texts in our preprocessed test set."
   ]
  },
  {
   "cell_type": "code",
   "execution_count": null,
   "metadata": {
    "application/vnd.databricks.v1+cell": {
     "inputWidgets": {},
     "nuid": "3e9cd2bd-bceb-4c82-965f-1c8a6acf41dc",
     "showTitle": false,
     "title": ""
    }
   },
   "outputs": [],
   "source": [
    "nb_predictions = nb_classifier.predict(test_preprocessed)\n",
    "lr_predictions = lr_classifier.predict(test_preprocessed)\n",
    "svm_predictions = svm_classifier.predict(test_preprocessed)"
   ]
  },
  {
   "cell_type": "markdown",
   "metadata": {
    "application/vnd.databricks.v1+cell": {
     "inputWidgets": {},
     "nuid": "bff77ea4-f1d7-4cf7-8181-e023f2a10f65",
     "showTitle": false,
     "title": ""
    }
   },
   "source": [
    "Now we can compute the accuracy of each model: the proportion of test texts for which the predicted label is the same as the target label. The Naive Bayes classifier assigned the correct label in 77.4% of the cases, the logistic regression model achieves an accuracy of 82.8%, and the Support Vector Machine got the label right 85.3% of the time."
   ]
  },
  {
   "cell_type": "code",
   "execution_count": null,
   "metadata": {
    "application/vnd.databricks.v1+cell": {
     "inputWidgets": {},
     "nuid": "be2323c9-7c34-4798-bbf9-8d2576ea7d27",
     "showTitle": false,
     "title": ""
    }
   },
   "outputs": [],
   "source": [
    "print(\"NB Accuracy:\", np.mean(nb_predictions == test_data.target))\n",
    "print(\"LR Accuracy:\", np.mean(lr_predictions == test_data.target))\n",
    "print(\"SVM Accuracy:\", np.mean(svm_predictions == test_data.target))"
   ]
  },
  {
   "cell_type": "markdown",
   "metadata": {
    "application/vnd.databricks.v1+cell": {
     "inputWidgets": {},
     "nuid": "992894d1-79e5-4143-908f-2601a5c96d51",
     "showTitle": false,
     "title": ""
    }
   },
   "source": [
    "#### Grid search\n",
    "\n",
    "Still, it's a bit too early to announce the winner. It's very likely we haven't yet got the most from our classifiers. When we trained them above, we just used the default values for most hyperparameters. However, these hyperparameter values can have a big impact on accuracy. Therefore we want to explore the parameter space a bit more and find out what hyperparameter values give the best results. We do this with a so-called grid search. In a grid search we define a grid of hyperparameter values that we want to explore. Scikit-learn then steps to this grid to find the best combination. It does this with **n-fold cross-validation**: for each parameter combination in the grid, it fits a predefined number of models (**n**, the `cv` parameter in `GridSearchCV`. It splits up the training data in **n folds**, fits a model on all but one of these folds, and tests it on the held-out fold. When it has done this **n** times, it computes the average performance, and moves on. It performs the full hyperparameter grid in this way and keeps the model with the best average performance over the folds.\n",
    "\n",
    "In this example, we'll experiment with the **C hyperparameter**. C controls the degree of regularization in support vector machines and logistic regression. Regularization combats overfitting by imposing a penalty on large parameter values in the model. The lower the C value, the more regularization is applied."
   ]
  },
  {
   "cell_type": "code",
   "execution_count": null,
   "metadata": {
    "application/vnd.databricks.v1+cell": {
     "inputWidgets": {},
     "nuid": "e91ca29b-d690-4afe-a17a-457ed826d6bf",
     "showTitle": false,
     "title": ""
    }
   },
   "outputs": [],
   "source": [
    "parameters = {'C': np.logspace(0, 3, 10)}\n",
    "parameters = {'C': [0.1, 1, 10, 100, 1000]}\n",
    "\n",
    "print(\"Grid search for SVM\")\n",
    "svm_best = GridSearchCV(svm_classifier, parameters, cv=3, verbose=1, n_jobs=-1)\n",
    "svm_best.fit(train_preprocessed, train_data.target)\n",
    "\n",
    "print(\"Grid search for logistic regression\")\n",
    "lr_best = GridSearchCV(lr_classifier, parameters, cv=3, verbose=1, n_jobs=-1)\n",
    "lr_best.fit(train_preprocessed, train_data.target)"
   ]
  },
  {
   "cell_type": "markdown",
   "metadata": {
    "application/vnd.databricks.v1+cell": {
     "inputWidgets": {},
     "nuid": "2001c927-df79-41f4-8fcd-02b230992003",
     "showTitle": false,
     "title": ""
    }
   },
   "source": [
    "When the grid search has been completed, we can find out what hyperparameter values led to the best-performing model."
   ]
  },
  {
   "cell_type": "code",
   "execution_count": null,
   "metadata": {
    "application/vnd.databricks.v1+cell": {
     "inputWidgets": {},
     "nuid": "2b73967d-9889-4130-bfed-07665693cfe9",
     "showTitle": false,
     "title": ""
    }
   },
   "outputs": [],
   "source": [
    "print(\"Best LR parameters:\")\n",
    "print(lr_best.best_params_)\n",
    "\n",
    "print(\"Best SVM Parameters\")\n",
    "print(svm_best.best_params_)"
   ]
  },
  {
   "cell_type": "markdown",
   "metadata": {
    "application/vnd.databricks.v1+cell": {
     "inputWidgets": {},
     "nuid": "bfae56af-6fed-43a0-af29-df9f99892853",
     "showTitle": false,
     "title": ""
    }
   },
   "source": [
    "Let's see if these best models now perform any better on our test data. For the SVM, the default setting seems to have worked best: our other values didn't lead to a higher accuracy. For logistic regression, however, the default  𝐶  value was clearly not the most optimal one. When we increase  𝐶  to  1000 , the logistic regression model performs almost as well as the SVM."
   ]
  },
  {
   "cell_type": "code",
   "execution_count": null,
   "metadata": {
    "application/vnd.databricks.v1+cell": {
     "inputWidgets": {},
     "nuid": "ea656273-d7ba-4af5-8e3d-ef07568ec157",
     "showTitle": false,
     "title": ""
    }
   },
   "outputs": [],
   "source": [
    "best_lr_predictions = lr_best.predict(test_preprocessed)\n",
    "best_svm_predictions = svm_best.predict(test_preprocessed)\n",
    "\n",
    "print(\"Best LR Accuracy:\", np.mean(best_lr_predictions == test_data.target))\n",
    "print(\"Best SVM Accuracy:\", np.mean(best_svm_predictions == test_data.target))"
   ]
  },
  {
   "cell_type": "markdown",
   "metadata": {
    "application/vnd.databricks.v1+cell": {
     "inputWidgets": {},
     "nuid": "5b677969-ae9f-4b76-9a68-c39732877c07",
     "showTitle": false,
     "title": ""
    }
   },
   "source": [
    "### Extensive evaluation\n",
    "\n",
    "#### Detailed scores\n",
    "\n",
    "So far we've only looked at the accuracy of our models: the proportion of test examples for which their prediction is correct. This is fine as a first evaluation, but it doesn't give us much insight in what mistakes the models make and why. We'll therefore perform a much more extensive evaluation in three steps. Let's start by computing the precision, recall and F-score of the best SVM for the individual classes:\n",
    "\n",
    "- Precision \\\\(P\\\\) is the number of times the classifier predicted a class correctly, divided by the total number of times it predicted this class. \n",
    "- Recall is the proportion of documents with a given class that were labelled correctly by the classifier. \n",
    "- The F1-score is the harmonic mean between precision and recall: \\\\(2*P*R/(P+R)\\\\)\n",
    "\n",
    "The classification report below shows, for example, that the sports classes were quite easy to predict, while the computer and some of the politics classes proved much more difficult."
   ]
  },
  {
   "cell_type": "code",
   "execution_count": null,
   "metadata": {
    "application/vnd.databricks.v1+cell": {
     "inputWidgets": {},
     "nuid": "4ab8ad00-2d75-4420-9520-c60080138ab0",
     "showTitle": false,
     "title": ""
    }
   },
   "outputs": [],
   "source": [
    "print(classification_report(test_data.target, best_svm_predictions, target_names=test_data.target_names))"
   ]
  },
  {
   "cell_type": "markdown",
   "metadata": {
    "application/vnd.databricks.v1+cell": {
     "inputWidgets": {},
     "nuid": "e4aaf8fd-55d6-4cd8-9666-1259228f741c",
     "showTitle": false,
     "title": ""
    }
   },
   "source": [
    "#### Confusion matrix  \n",
    "\n",
    "Second, we're going to visualize our results in even more detail, using a so-called confusion matrix. A confusion matrix helps us better understand the errors our classifier makes. Its rows display the actual labels, its columns show the predictions of our classifier. This means all correct predictions will lie on the diagonal, where the actual label and the predicted label are the same. The predictions elsewhere in the matrix help us understand what classes are often mixed up by our classifier. Our confusion matrix shows, for example, that 91 documents with the label talk.politics.misc incorrectly received the label talk.politics.guns. Similarly, our classifier sometimes fails to tell apart the two religion classes, and gets quite mixed up in the computer topics in the top left corner."
   ]
  },
  {
   "cell_type": "code",
   "execution_count": null,
   "metadata": {
    "application/vnd.databricks.v1+cell": {
     "inputWidgets": {},
     "nuid": "08efdfd1-2518-45f9-af48-48a164ef9f7c",
     "showTitle": false,
     "title": ""
    }
   },
   "outputs": [],
   "source": [
    "conf_matrix = confusion_matrix(test_data.target, best_svm_predictions)\n",
    "conf_matrix_df = pd.DataFrame(conf_matrix, index=test_data.target_names, columns=test_data.target_names)\n",
    "\n",
    "plt.figure(figsize=(15, 10))\n",
    "sn.heatmap(conf_matrix_df, annot=True, vmin=0, vmax=conf_matrix.max(), fmt='d', cmap=\"YlGnBu\")\n",
    "plt.yticks(rotation=0)\n",
    "plt.xticks(rotation=90)"
   ]
  },
  {
   "cell_type": "markdown",
   "metadata": {
    "application/vnd.databricks.v1+cell": {
     "inputWidgets": {},
     "nuid": "bc98e374-8e0e-4a7c-9dc2-e66ce83fcca4",
     "showTitle": false,
     "title": ""
    }
   },
   "source": [
    "#### Explainability\n",
    "\n",
    "Finally, we'd like to perform a more qualitative evaluation of our model by taking a look at the features to which it assigns the highest weight for each of the classes. This will help us understand if the model indeed captures the phenomena we'd like it to capture. A great Python library to do this is `eli5`, which works together seamlessly with `scikit-learn`. Its function `explain_weights` takes a trained model, a list of feature names and target names, and prints out the features that have the highest positive values for each of the targets. The results convince us that our SVM indeed models the correct information: it sees a strong link between the \"atheism\" class and words such as _atheism_ and _atheists_, between \"computer graphics\" and words such as _3d_ and _image_, and so on."
   ]
  },
  {
   "cell_type": "code",
   "execution_count": null,
   "metadata": {
    "application/vnd.databricks.v1+cell": {
     "inputWidgets": {},
     "nuid": "b04528c6-b31c-4737-b715-156f685e2b00",
     "showTitle": false,
     "title": ""
    }
   },
   "outputs": [],
   "source": [
    "eli5.explain_weights(svm_best.best_estimator_, \n",
    "                     feature_names = preprocessing.named_steps[\"vect\"].get_feature_names(),\n",
    "                     target_names = train_data.target_names\n",
    "                    )"
   ]
  },
  {
   "cell_type": "markdown",
   "metadata": {
    "application/vnd.databricks.v1+cell": {
     "inputWidgets": {},
     "nuid": "ec4b4857-f471-4718-ae33-ad41d5ad56ed",
     "showTitle": false,
     "title": ""
    }
   },
   "source": [
    "#### Conclusion  \n",
    "\n",
    "This notebook has demonstrated how you can quickly train a text classifier. Although the types of models we've looked at predate the deep learning revolution in NLP, they're often a quick and effective way of training a first classifier for your text classification problem. Not only can they provide a good baseline and help you understand your data and problem better. In some cases, you may find they are quite hard to beat even with state-of-the-art deep learning models."
   ]
  }
 ],
 "metadata": {
  "application/vnd.databricks.v1+notebook": {
   "dashboards": [],
   "language": "python",
   "notebookMetadata": {
    "pythonIndentUnit": 2
   },
   "notebookName": "2a_IntroNLP_TextClassification",
   "notebookOrigID": 4473113267812535,
   "widgets": {}
  },
  "kernelspec": {
   "display_name": "Python 3",
   "language": "python",
   "name": "python3"
  },
  "language_info": {
   "codemirror_mode": {
    "name": "ipython",
    "version": 3
   },
   "file_extension": ".py",
   "mimetype": "text/x-python",
   "name": "python",
   "nbconvert_exporter": "python",
   "pygments_lexer": "ipython3",
   "version": "3.7.1"
  }
 },
 "nbformat": 4,
 "nbformat_minor": 2
}
