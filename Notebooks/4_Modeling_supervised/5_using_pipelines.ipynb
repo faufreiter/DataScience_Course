{
 "cells": [
  {
   "cell_type": "markdown",
   "metadata": {
    "application/vnd.databricks.v1+cell": {
     "inputWidgets": {},
     "nuid": "fabe66d0-9253-4c70-a516-8aa650d0c647",
     "showTitle": false,
     "title": ""
    }
   },
   "source": [
    "# Nice Pipeline\n",
    "\n",
    "In this notebook we present a nice example of a pipeline which we can use for training purposes. At first glance it looks messy and hard to read.  \n",
    "But if you take a moment to really understand it you will notice the beauty of it!"
   ]
  },
  {
   "cell_type": "code",
   "execution_count": null,
   "metadata": {
    "application/vnd.databricks.v1+cell": {
     "inputWidgets": {},
     "nuid": "ab587c62-f549-4b22-a0c3-818d5a130b54",
     "showTitle": false,
     "title": ""
    }
   },
   "outputs": [],
   "source": [
    "from sklearn.pipeline import Pipeline\n",
    "from sklearn.pipeline import FeatureUnion\n",
    "from sklearn.compose import ColumnTransformer"
   ]
  },
  {
   "cell_type": "markdown",
   "metadata": {
    "application/vnd.databricks.v1+cell": {
     "inputWidgets": {},
     "nuid": "a35b6688-d268-425d-8539-b355d466862a",
     "showTitle": false,
     "title": ""
    }
   },
   "source": [
    "We need to import some transformers which are going to be inside of the pipeline.  \n",
    "**This is not operational code, just an example of longer pipelines.**"
   ]
  },
  {
   "cell_type": "code",
   "execution_count": null,
   "metadata": {
    "application/vnd.databricks.v1+cell": {
     "inputWidgets": {},
     "nuid": "004dfcda-d068-4e77-8334-d2ce0023b545",
     "showTitle": false,
     "title": ""
    }
   },
   "outputs": [],
   "source": [
    "#Preprocessing\n",
    "from sklearn.preprocessing import OneHotEncoder\n",
    "from sklearn.feature_extraction.text import TfidfVectorizer\n",
    "\n",
    "#Dimensionality reduction\n",
    "from sklearn.decomposition import NMF\n",
    "\n",
    "#Imputation\n",
    "from sklearn.impute import SimpleImputer\n",
    "\n",
    "#Modeling\n",
    "from sklearn.ensemble import RandomForestClassifier\n",
    "\n",
    "#Other\n",
    "import numpy as np"
   ]
  },
  {
   "cell_type": "markdown",
   "metadata": {
    "application/vnd.databricks.v1+cell": {
     "inputWidgets": {},
     "nuid": "c74037c8-1b27-4d0d-9188-53185605bc72",
     "showTitle": false,
     "title": ""
    }
   },
   "source": [
    "The pipeline below will be a bit overwelming at first. Because of this we recommend the following steps to ease comprehension:\n",
    "\n",
    "## Step 1: Take a quick glance\n",
    "Please take a quick look at the pipeline below and come back here.\n",
    "\n",
    "## Step 2: Slow walkthrough\n",
    "Get a **high level view** of the pipeline:\n",
    "- Look at the top. There is a `FeatureUnion` object, which is a wrapper for the entire feature engineering process.\n",
    "- Look at the bottom. There is a `RandomForestClassifier` object, which is our predictive model.\n",
    "\n",
    "Now we can go deeper into the `FeatureUnion` object we have instantiated, which is where the **feature engineering** is happening.\n",
    "- `FeatureUntion` splits into three parts, depending on which features we are attempting to process:\n",
    "    - On top we have numerical features.\n",
    "    - In the middle we have categorical features.\n",
    "    - At the bottom we have textual features.\n",
    "- Now zoom out again and realize that this is wrapped under `FeatureUnion`, which means that **these features will be transformed in a parallel way and appended next to each other**.\n",
    "\n",
    "## Step 3: Zooming in\n",
    "Only now let's **zoom into one part of our feature engineering**, for example into `numerical_features`, on the top:\n",
    "- Inside of it, we right away use `ColumnTransformer` as we want to specify for which columns certain transformation will be applied to based on name or by type.\n",
    "- Now we can already apply the transformers. But remember that `ColumnTransformer` by default drops all untransformed columns, which would mean that if we want to apply some transformations sequentially we would not be able to.\n",
    "\n",
    "## Step 4: Indentation\n",
    "Finally, **get used to the indentation** (the whitespacing). Your code editor helps with this. Get used to this by clicking just behind the last visible character on the line where you are. For example go behing the last bracket on the line of `SimpleImputer`. Now if you hit Enter, it will land where a code should continue on the next line it you still want to stay within the element, which is a `Pipeline` object."
   ]
  },
  {
   "cell_type": "markdown",
   "metadata": {
    "application/vnd.databricks.v1+cell": {
     "inputWidgets": {},
     "nuid": "22e0b88e-9865-4fd7-aaf6-8ae102d11b04",
     "showTitle": false,
     "title": ""
    }
   },
   "source": [
    "Source 1: https://www.codementor.io/@bruce3557/beautiful-machine-learning-pipeline-with-scikit-learn-uiqapbxuj   \n",
    "Source 2: http://zacstewart.com/2014/08/05/pipelines-of-featureunions-of-pipelines.html"
   ]
  },
  {
   "cell_type": "code",
   "execution_count": null,
   "metadata": {
    "application/vnd.databricks.v1+cell": {
     "inputWidgets": {},
     "nuid": "2ba926a9-fe63-4e81-9d39-59e5680cb76e",
     "showTitle": false,
     "title": ""
    }
   },
   "outputs": [],
   "source": [
    "model_pipeline = Pipeline(steps=[\n",
    "    (\"features\", FeatureUnion([\n",
    "        (\"numerical_features\",\n",
    "         ColumnTransformer([\n",
    "             (\"numerical\",\n",
    "              Pipeline(steps=[(\n",
    "                  \"impute_stage\",\n",
    "                  SimpleImputer(missing_values=np.nan, strategy=\"median\")\n",
    "              )]),\n",
    "              [\"feature_1\"]\n",
    "             )\n",
    "         ])\n",
    "        ), \n",
    "        (\"categorical_features\",\n",
    "            ColumnTransformer([\n",
    "                (\"country_encoding\",\n",
    "                 Pipeline(steps=[\n",
    "                     (\"ohe\", OneHotEncoder(handle_unknown=\"ignore\")),\n",
    "                     (\"reduction\", NMF(n_components=8)),\n",
    "                 ]),\n",
    "                 [\"country\"],\n",
    "                ),\n",
    "            ])\n",
    "        ), \n",
    "        (\"text_features\",\n",
    "         ColumnTransformer([\n",
    "             (\"title_vec\",\n",
    "              Pipeline(steps=[\n",
    "                  (\"tfidf\", TfidfVectorizer()),\n",
    "                  (\"reduction\", NMF(n_components=50)),\n",
    "              ]),\n",
    "              \"title\"\n",
    "             )\n",
    "         ])\n",
    "        )\n",
    "    ])\n",
    "    ),\n",
    "    (\"classifiers\", RandomForestClassifier())\n",
    "])"
   ]
  },
  {
   "cell_type": "markdown",
   "metadata": {
    "application/vnd.databricks.v1+cell": {
     "inputWidgets": {},
     "nuid": "765332a2-33be-4c53-a65a-047894dfde88",
     "showTitle": false,
     "title": ""
    }
   },
   "source": [
    "Now that we have created a pipeline and know how it is structured, we can work with easily:"
   ]
  },
  {
   "cell_type": "code",
   "execution_count": null,
   "metadata": {
    "application/vnd.databricks.v1+cell": {
     "inputWidgets": {},
     "nuid": "bbf5b69d-af1f-4886-9267-ed5113f9a705",
     "showTitle": false,
     "title": ""
    }
   },
   "outputs": [],
   "source": [
    "model_pipeline.fit(train_data, train_labels.values)\n",
    "predictions = model_pipeline.predict(predict_data)"
   ]
  },
  {
   "cell_type": "markdown",
   "metadata": {
    "application/vnd.databricks.v1+cell": {
     "inputWidgets": {},
     "nuid": "7b20e254-4d49-45f6-89b1-8a0b7d0d4735",
     "showTitle": false,
     "title": ""
    }
   },
   "source": [
    "# 3. How to write that?\n",
    "Alright, we are now slightly more comfortable with understanding how pipelines work. But how do we write them ourselves?   \n",
    "The answer is: **from the outside inwards**. \n",
    "\n",
    "Let's walk through an example. Of course you can write things differently.    \n",
    "At first, lay out a simple structure which separates your feature engineering (inside of `FeatureUnion`) and your predictive model:"
   ]
  },
  {
   "cell_type": "code",
   "execution_count": null,
   "metadata": {
    "application/vnd.databricks.v1+cell": {
     "inputWidgets": {},
     "nuid": "3acf7ce1-17d6-45f8-a917-7703a36752d0",
     "showTitle": false,
     "title": ""
    }
   },
   "outputs": [],
   "source": [
    "# model_pipeline = Pipeline(steps=[\n",
    "#     (\"features\", FeatureUnion([#all feature engineering goes here])),\n",
    "#     (\"classifiers\", RandomForestClassifier())\n",
    "# ])"
   ]
  },
  {
   "cell_type": "markdown",
   "metadata": {
    "application/vnd.databricks.v1+cell": {
     "inputWidgets": {},
     "nuid": "0eb2b1a3-a305-4ba5-aa99-bc4f5d965018",
     "showTitle": false,
     "title": ""
    }
   },
   "source": [
    "Secondly, depending on your features, split the feature engineering into various parts:"
   ]
  },
  {
   "cell_type": "code",
   "execution_count": null,
   "metadata": {
    "application/vnd.databricks.v1+cell": {
     "inputWidgets": {},
     "nuid": "bde03802-df09-4f0a-8811-c5b57723d156",
     "showTitle": false,
     "title": ""
    }
   },
   "outputs": [],
   "source": [
    "model_pipeline = Pipeline(steps=[\n",
    "    (\"features\", FeatureUnion([(\"numerical_features\", #numerical transformations), \n",
    "                               (\"categorical_features\", #categorical transformations), \n",
    "                               (\"text_features\", #textual transformations)\n",
    "                              ])\n",
    "    ),\n",
    "    (\"classifiers\", RandomForestClassifier())\n",
    "])"
   ]
  },
  {
   "cell_type": "markdown",
   "metadata": {
    "application/vnd.databricks.v1+cell": {
     "inputWidgets": {},
     "nuid": "9127e34f-ce75-4a38-aaf3-f531fb0f791e",
     "showTitle": false,
     "title": ""
    }
   },
   "source": [
    "Now you want to insert a `ColumnTransformer` as the transformations will be applied only to specific columns."
   ]
  },
  {
   "cell_type": "code",
   "execution_count": null,
   "metadata": {
    "application/vnd.databricks.v1+cell": {
     "inputWidgets": {},
     "nuid": "bec03745-6878-42da-a0d8-50d1f6d6b0bb",
     "showTitle": false,
     "title": ""
    }
   },
   "outputs": [],
   "source": [
    "model_pipeline = Pipeline(steps=[\n",
    "    (\"features\", FeatureUnion([(\"numerical_features\", ColumnTransformer([#numerical transformations])),\n",
    "                               (\"categorical_features\", ColumnTransformer([#categorical transformations])),\n",
    "                               (\"text_features\", ColumnTransformer([#textual transformations]))\n",
    "                              ])\n",
    "    ),\n",
    "    (\"classifiers\", RandomForestClassifier())\n",
    "])"
   ]
  },
  {
   "cell_type": "markdown",
   "metadata": {
    "application/vnd.databricks.v1+cell": {
     "inputWidgets": {},
     "nuid": "5b1a33d7-cdc2-49cb-82ed-4f269fc8c160",
     "showTitle": false,
     "title": ""
    }
   },
   "source": [
    "You can put a `Pipeline` inside of the feature engineering, for example, in case you have transformers which need to be applied sequentially (such as numeric scaling and feature selection).  \n",
    "\n",
    "At this point you can start inserting your individual transformations from before into the pipeline."
   ]
  },
  {
   "cell_type": "markdown",
   "metadata": {
    "application/vnd.databricks.v1+cell": {
     "inputWidgets": {},
     "nuid": "123b6305-637e-48a0-8a28-c7b7f14155d1",
     "showTitle": false,
     "title": ""
    }
   },
   "source": [
    "# 4. Reflect\n",
    "Continue with this point only once you went through the pipeline above.  \n",
    "\n",
    "Usually we think that nicely written code costs significantly more effort than code scraped together in whichever way. Now that we went through the composite estimators properly, you know that it might be even simpler in many cases, not to mention more robust.  \n",
    "\n",
    "At this point, you are hopefully able to tell apart two things:  \n",
    "- Data preprocessing and wrangling.\n",
    "- Data preparation for ML (Feature Engineering)  \n",
    "\n",
    "Always try to separate these things in your use case (code). That is why we present these topics separatedely. It will be of tremendous help in the long run to write code in this way."
   ]
  },
  {
   "cell_type": "markdown",
   "metadata": {
    "application/vnd.databricks.v1+cell": {
     "inputWidgets": {},
     "nuid": "7b044a47-892f-4c47-acfd-86282343c1b3",
     "showTitle": false,
     "title": ""
    }
   },
   "source": [
    "# 5. Working Example  \n",
    "[Source](https://scikit-learn.org/stable/auto_examples/compose/plot_column_transformer_mixed_types.html)"
   ]
  },
  {
   "cell_type": "code",
   "execution_count": null,
   "metadata": {
    "application/vnd.databricks.v1+cell": {
     "inputWidgets": {},
     "nuid": "e6adccc8-a73a-40a7-b584-c409f48bc012",
     "showTitle": false,
     "title": ""
    }
   },
   "outputs": [],
   "source": [
    "import numpy as np\n",
    "import pandas as pd\n",
    "from sklearn.compose import ColumnTransformer\n",
    "from sklearn.datasets import fetch_openml\n",
    "from sklearn.pipeline import Pipeline\n",
    "from sklearn.impute import SimpleImputer\n",
    "from sklearn.preprocessing import StandardScaler, OneHotEncoder\n",
    "from sklearn.linear_model import LogisticRegression\n",
    "from sklearn.model_selection import train_test_split, GridSearchCV"
   ]
  },
  {
   "cell_type": "code",
   "execution_count": null,
   "metadata": {
    "application/vnd.databricks.v1+cell": {
     "inputWidgets": {},
     "nuid": "01282827-20f6-4e1f-856e-5d95dcf82460",
     "showTitle": false,
     "title": ""
    }
   },
   "outputs": [],
   "source": [
    "train = pd.read_csv(\"data_titanic/train.csv\")\n",
    "train.head()"
   ]
  },
  {
   "cell_type": "markdown",
   "metadata": {
    "application/vnd.databricks.v1+cell": {
     "inputWidgets": {},
     "nuid": "25d40f39-e009-499e-b13b-b01c79eba369",
     "showTitle": false,
     "title": ""
    }
   },
   "source": [
    "We will use ``ColumnTransformer`` where we select the columns by their names.   \n",
    "We will then train our classifier with the following features:\n",
    "\n",
    "**Numeric Features**\n",
    "\n",
    "* 'Age': float;\n",
    "* 'Fare': float.\n",
    "\n",
    "**Categorical Features**\n",
    "\n",
    "* 'Embarked': categories encoded as strings: ``{'C', 'S', 'Q'}``;\n",
    "* 'Sex': categories encoded as strings: ``{'female', 'male'}``;\n",
    "* 'Pclass': ordinal integers: ``{1, 2, 3}``.\n",
    "\n",
    "We first create the preprocessing pipelines for both numeric and categorical data.\n",
    "Note that 'Pclass' could either be treated as a categorical or a numeric\n",
    "feature."
   ]
  },
  {
   "cell_type": "code",
   "execution_count": null,
   "metadata": {
    "application/vnd.databricks.v1+cell": {
     "inputWidgets": {},
     "nuid": "ac1a4beb-51b9-47cf-bd2d-09c0e75fb068",
     "showTitle": false,
     "title": ""
    }
   },
   "outputs": [],
   "source": [
    "X = train.drop('Survived', axis=1)\n",
    "y = train['Survived']"
   ]
  },
  {
   "cell_type": "code",
   "execution_count": null,
   "metadata": {
    "application/vnd.databricks.v1+cell": {
     "inputWidgets": {},
     "nuid": "d2b21501-668a-44d4-b0ef-d35c43497bb8",
     "showTitle": false,
     "title": ""
    }
   },
   "outputs": [],
   "source": [
    "numeric_features = [\"Age\", \"Fare\"]\n",
    "numeric_transformer = Pipeline(steps=[(\"imputer\", SimpleImputer(strategy=\"median\")), \n",
    "                                      (\"scaler\", StandardScaler())]\n",
    "                              )\n",
    "\n",
    "categorical_features = [\"Embarked\", \"Sex\", \"Pclass\"]\n",
    "categorical_transformer = OneHotEncoder(handle_unknown=\"ignore\")\n",
    "\n",
    "preprocessor = ColumnTransformer(transformers=[(\"num\", numeric_transformer, numeric_features),\n",
    "                                               (\"cat\", categorical_transformer, categorical_features),\n",
    "                                              ]\n",
    "                                )"
   ]
  },
  {
   "cell_type": "markdown",
   "metadata": {
    "application/vnd.databricks.v1+cell": {
     "inputWidgets": {},
     "nuid": "e8696f73-230c-494d-8003-f23f0a17f339",
     "showTitle": false,
     "title": ""
    }
   },
   "source": [
    "Append a classifier, in this case a logistic regression, to preprocessing pipeline to arrive at a full prediction pipeline."
   ]
  },
  {
   "cell_type": "code",
   "execution_count": null,
   "metadata": {
    "application/vnd.databricks.v1+cell": {
     "inputWidgets": {},
     "nuid": "7969788d-154c-4170-b659-e0a68799966f",
     "showTitle": false,
     "title": ""
    }
   },
   "outputs": [],
   "source": [
    "clf = Pipeline(steps=[(\"preprocessor\", preprocessor), \n",
    "                      (\"classifier\", LogisticRegression())])\n",
    "\n",
    "X_train, X_test, y_train, y_test = train_test_split(X, y, test_size=0.2, random_state=0)\n",
    "clf.fit(X_train, y_train)\n",
    "\n",
    "print(\"model score: %.3f\" % clf.score(X_test, y_test))"
   ]
  },
  {
   "cell_type": "code",
   "execution_count": null,
   "metadata": {
    "application/vnd.databricks.v1+cell": {
     "inputWidgets": {},
     "nuid": "6f299cec-4e32-47a2-9cef-01b88171a9b8",
     "showTitle": false,
     "title": ""
    }
   },
   "outputs": [],
   "source": [
    "clf"
   ]
  },
  {
   "cell_type": "markdown",
   "metadata": {
    "application/vnd.databricks.v1+cell": {
     "inputWidgets": {},
     "nuid": "4f9cb4ed-30f3-42aa-9c30-218bd628a5ea",
     "showTitle": false,
     "title": ""
    }
   },
   "source": [
    "**We can also select columns by data types when using `ColumnTransformer`.**   \n",
    "When dealing with a cleaned dataset, the preprocessing can be automatic by\n",
    "using the data types of the column to decide whether to treat a column as a numerical or categorical feature.\n",
    "\n",
    "The function `sklearn.compose.make_column_selector` gives this possibility.\n",
    "\n",
    "In practice, you will have to handle the column data type yourself.\n",
    "If you want some columns to be considered as `category`, you will have to convert them into categorical columns. If you are using pandas, you can refer to their documentation regarding [Categorical data](https://pandas.pydata.org/pandas-docs/stable/user_guide/categorical.html).</p>\n",
    "\n",
    "\n",
    "+ First, we will transform the object columns into categorical.  \n",
    "+ Then we will only select a subset of columns to simplify our example."
   ]
  },
  {
   "cell_type": "code",
   "execution_count": null,
   "metadata": {
    "application/vnd.databricks.v1+cell": {
     "inputWidgets": {},
     "nuid": "3920fd9a-295e-4db6-a44a-51c683d5b2b1",
     "showTitle": false,
     "title": ""
    }
   },
   "outputs": [],
   "source": [
    "X[\"Embarked\"] = X[\"Embarked\"].astype(\"category\")\n",
    "X[\"Sex\"] = X[\"Sex\"].astype(\"category\")"
   ]
  },
  {
   "cell_type": "code",
   "execution_count": null,
   "metadata": {
    "application/vnd.databricks.v1+cell": {
     "inputWidgets": {},
     "nuid": "bfefc458-f27e-426c-984f-72ee1f40aa59",
     "showTitle": false,
     "title": ""
    }
   },
   "outputs": [],
   "source": [
    "X_train, X_test, y_train, y_test = train_test_split(X, y, test_size=0.2, random_state=0)\n",
    "subset_feature = [\"Embarked\", \"Sex\", \"Pclass\", \"Age\", \"Fare\"]\n",
    "X_train, X_test = X_train[subset_feature], X_test[subset_feature]"
   ]
  },
  {
   "cell_type": "code",
   "execution_count": null,
   "metadata": {
    "application/vnd.databricks.v1+cell": {
     "inputWidgets": {},
     "nuid": "a69dc129-2118-435b-9d27-d82e57f16dbf",
     "showTitle": false,
     "title": ""
    }
   },
   "outputs": [],
   "source": [
    "X_train.info()"
   ]
  },
  {
   "cell_type": "markdown",
   "metadata": {
    "application/vnd.databricks.v1+cell": {
     "inputWidgets": {},
     "nuid": "444d8b82-4dae-4eaf-85a3-94fa8e5309f2",
     "showTitle": false,
     "title": ""
    }
   },
   "source": [
    "We can observe that the 'Embarked' and 'Sex' columns were tagged as `category` columns.  \n",
    "Therefore, we can use this information to dispatch the categorical columns to the ``categorical_transformer`` and the remaining columns to the ``numerical_transformer``."
   ]
  },
  {
   "cell_type": "code",
   "execution_count": null,
   "metadata": {
    "application/vnd.databricks.v1+cell": {
     "inputWidgets": {},
     "nuid": "7b61ce65-1d50-4a2e-82f1-9fc091e25b5d",
     "showTitle": false,
     "title": ""
    }
   },
   "outputs": [],
   "source": [
    "from sklearn.compose import make_column_selector as selector\n",
    "\n",
    "preprocessor = ColumnTransformer(\n",
    "    transformers=[\n",
    "        (\"num\", numeric_transformer, selector(dtype_exclude=\"category\")),\n",
    "        (\"cat\", categorical_transformer, selector(dtype_include=\"category\")),\n",
    "    ]\n",
    ")\n",
    "clf = Pipeline(\n",
    "    steps=[(\"preprocessor\", preprocessor), (\"classifier\", LogisticRegression())]\n",
    ")\n",
    "\n",
    "\n",
    "clf.fit(X_train, y_train)\n",
    "print(\"model score: %.3f\" % clf.score(X_test, y_test))\n",
    "clf"
   ]
  },
  {
   "cell_type": "markdown",
   "metadata": {
    "application/vnd.databricks.v1+cell": {
     "inputWidgets": {},
     "nuid": "e428227f-adfb-462a-be1d-f6b5d11098fb",
     "showTitle": false,
     "title": ""
    }
   },
   "source": [
    "The resulting score is not exactly the same as the one from the previous pipeline because the dtype-based selector treats the 'Pclass' column as a numeric feature instead of a categorical feature:"
   ]
  },
  {
   "cell_type": "code",
   "execution_count": null,
   "metadata": {
    "application/vnd.databricks.v1+cell": {
     "inputWidgets": {},
     "nuid": "5216343e-8ee4-45a8-9911-35d506da0c82",
     "showTitle": false,
     "title": ""
    }
   },
   "outputs": [],
   "source": [
    "selector(dtype_exclude=\"category\")(X_train)"
   ]
  },
  {
   "cell_type": "code",
   "execution_count": null,
   "metadata": {
    "application/vnd.databricks.v1+cell": {
     "inputWidgets": {},
     "nuid": "27b7aea6-342b-4754-8647-fbf6b975eef6",
     "showTitle": false,
     "title": ""
    }
   },
   "outputs": [],
   "source": [
    "selector(dtype_include=\"category\")(X_train)"
   ]
  },
  {
   "cell_type": "markdown",
   "metadata": {
    "application/vnd.databricks.v1+cell": {
     "inputWidgets": {},
     "nuid": "57fc6d5b-e0c3-4dea-bbbd-d56bb4ddafb4",
     "showTitle": false,
     "title": ""
    }
   },
   "source": [
    "**Using the prediction pipeline in a grid search**   \n",
    "\n",
    "A grid search can also be performed on the different preprocessing steps which make up the ``ColumnTransformer`` object. So you can optimize the classifier's hyperparameters as part of the pipeline.  \n",
    "We will search for both the imputer strategy of the numeric preprocessing and the regularization parameter of the logistic regression using\n",
    "`sklearn.model_selection.GridSearchCV`."
   ]
  },
  {
   "cell_type": "code",
   "execution_count": null,
   "metadata": {
    "application/vnd.databricks.v1+cell": {
     "inputWidgets": {},
     "nuid": "29ed8dfd-864b-4589-8076-c30828cf5ea7",
     "showTitle": false,
     "title": ""
    }
   },
   "outputs": [],
   "source": [
    "param_grid = {\"preprocessor__num__imputer__strategy\": [\"mean\", \"median\"],\n",
    "              \"classifier__C\": [0.1, 1.0, 10, 100],\n",
    "             }\n",
    "\n",
    "grid_search = GridSearchCV(clf, param_grid, cv=10)\n",
    "grid_search"
   ]
  },
  {
   "cell_type": "markdown",
   "metadata": {
    "application/vnd.databricks.v1+cell": {
     "inputWidgets": {},
     "nuid": "6730a8d6-7b33-47ae-a88f-61c25f699d60",
     "showTitle": false,
     "title": ""
    }
   },
   "source": [
    "Calling `fit` triggers the cross-validated search for the best hyper-parameters combination:"
   ]
  },
  {
   "cell_type": "code",
   "execution_count": null,
   "metadata": {
    "application/vnd.databricks.v1+cell": {
     "inputWidgets": {},
     "nuid": "429b6833-0782-4741-a17e-ec2b97ab2730",
     "showTitle": false,
     "title": ""
    }
   },
   "outputs": [],
   "source": [
    "grid_search.fit(X_train, y_train)\n",
    "\n",
    "print(\"Best params:\")\n",
    "print(grid_search.best_params_)"
   ]
  },
  {
   "cell_type": "markdown",
   "metadata": {
    "application/vnd.databricks.v1+cell": {
     "inputWidgets": {},
     "nuid": "9fedb7cf-c157-4202-b0dc-403ea9f3589a",
     "showTitle": false,
     "title": ""
    }
   },
   "source": [
    "The internal cross-validation score obtained by those parameters is:"
   ]
  },
  {
   "cell_type": "code",
   "execution_count": null,
   "metadata": {
    "application/vnd.databricks.v1+cell": {
     "inputWidgets": {},
     "nuid": "4aefabe6-00db-4118-b774-09bdace562e4",
     "showTitle": false,
     "title": ""
    }
   },
   "outputs": [],
   "source": [
    "print(f\"Internal CV score: {grid_search.best_score_:.3f}\")"
   ]
  },
  {
   "cell_type": "markdown",
   "metadata": {
    "application/vnd.databricks.v1+cell": {
     "inputWidgets": {},
     "nuid": "ababfbc9-9302-480e-9d15-a400f68d20d8",
     "showTitle": false,
     "title": ""
    }
   },
   "source": [
    "We can also extract the top grid search results as a pandas dataframe:"
   ]
  },
  {
   "cell_type": "code",
   "execution_count": null,
   "metadata": {
    "application/vnd.databricks.v1+cell": {
     "inputWidgets": {},
     "nuid": "2605b91d-3124-4378-ae76-2a59561a914b",
     "showTitle": false,
     "title": ""
    }
   },
   "outputs": [],
   "source": [
    "cv_results = pd.DataFrame(grid_search.cv_results_)\n",
    "cv_results = cv_results.sort_values(\"mean_test_score\", ascending=False)\n",
    "cv_results[[\"mean_test_score\",\n",
    "            \"std_test_score\",\n",
    "            \"param_preprocessor__num__imputer__strategy\",\n",
    "            \"param_classifier__C\",\n",
    "           ]].head(5)"
   ]
  },
  {
   "cell_type": "markdown",
   "metadata": {
    "application/vnd.databricks.v1+cell": {
     "inputWidgets": {},
     "nuid": "abe85821-4527-4514-a3ed-e509e11c1aa5",
     "showTitle": false,
     "title": ""
    }
   },
   "source": [
    "The best hyper-parameters have to be used to re-fit the final model on the full training set.  \n",
    "We can evaluate that final model on held out test data that was not used for hyperparameter tuning."
   ]
  },
  {
   "cell_type": "code",
   "execution_count": null,
   "metadata": {
    "application/vnd.databricks.v1+cell": {
     "inputWidgets": {},
     "nuid": "cb2cfa9b-6d79-435a-b183-e43c9404cc1d",
     "showTitle": false,
     "title": ""
    }
   },
   "outputs": [],
   "source": [
    "print(f\"best logistic regression from grid search: {grid_search.score(X_test, y_test):.3f}\")"
   ]
  }
 ],
 "metadata": {
  "application/vnd.databricks.v1+notebook": {
   "dashboards": [],
   "language": "python",
   "notebookMetadata": {
    "pythonIndentUnit": 2
   },
   "notebookName": "1_using_pipelines",
   "notebookOrigID": 2649658360538974,
   "widgets": {}
  },
  "kernelspec": {
   "display_name": "Python 3",
   "language": "python",
   "name": "python3"
  },
  "language_info": {
   "codemirror_mode": {
    "name": "ipython",
    "version": 3
   },
   "file_extension": ".py",
   "mimetype": "text/x-python",
   "name": "python",
   "nbconvert_exporter": "python",
   "pygments_lexer": "ipython3",
   "version": "3.7.1"
  }
 },
 "nbformat": 4,
 "nbformat_minor": 2
}
