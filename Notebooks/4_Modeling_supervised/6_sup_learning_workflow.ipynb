{
 "cells": [
  {
   "cell_type": "code",
   "execution_count": null,
   "metadata": {
    "executionInfo": {
     "elapsed": 546,
     "status": "ok",
     "timestamp": 1618374871754,
     "user": {
      "displayName": "Robert Barcik",
      "photoUrl": "https://lh3.googleusercontent.com/a-/AOh14GgV4kbB-8oZS-p-vhI2xma0v0GgvlaFuZ5ZLU_nvG8=s64",
      "userId": "12944327394729832066"
     },
     "user_tz": -120
    },
    "id": "ji40KHgCk0mt"
   },
   "outputs": [],
   "source": [
    "import pandas as pd\n",
    "\n",
    "train = pd.read_csv(\"data_titanic/train.csv\")\n",
    "train.Pclass = train.Pclass.astype(float) # to avoid DataConversionWarning"
   ]
  },
  {
   "cell_type": "code",
   "execution_count": null,
   "metadata": {},
   "outputs": [],
   "source": [
    "train.head()"
   ]
  },
  {
   "cell_type": "markdown",
   "metadata": {
    "id": "Y2krGzNzk0mw"
   },
   "source": [
    "## Brief Exploration"
   ]
  },
  {
   "cell_type": "code",
   "execution_count": null,
   "metadata": {
    "colab": {
     "base_uri": "https://localhost:8080/",
     "height": 173
    },
    "executionInfo": {
     "elapsed": 553,
     "status": "ok",
     "timestamp": 1618374877676,
     "user": {
      "displayName": "Robert Barcik",
      "photoUrl": "https://lh3.googleusercontent.com/a-/AOh14GgV4kbB-8oZS-p-vhI2xma0v0GgvlaFuZ5ZLU_nvG8=s64",
      "userId": "12944327394729832066"
     },
     "user_tz": -120
    },
    "id": "qzKFZq1bk0mx",
    "outputId": "b318d79b-3b8e-47be-e410-3388d848914e"
   },
   "outputs": [],
   "source": [
    "# Categorical features\n",
    "train.describe(include = object)"
   ]
  },
  {
   "cell_type": "code",
   "execution_count": null,
   "metadata": {
    "colab": {
     "base_uri": "https://localhost:8080/",
     "height": 297
    },
    "executionInfo": {
     "elapsed": 540,
     "status": "ok",
     "timestamp": 1618374879814,
     "user": {
      "displayName": "Robert Barcik",
      "photoUrl": "https://lh3.googleusercontent.com/a-/AOh14GgV4kbB-8oZS-p-vhI2xma0v0GgvlaFuZ5ZLU_nvG8=s64",
      "userId": "12944327394729832066"
     },
     "user_tz": -120
    },
    "id": "KBNypknXk0m0",
    "outputId": "795cadfb-6ba7-4a87-a3e8-d13dc237c305"
   },
   "outputs": [],
   "source": [
    "# Numerical features\n",
    "train.describe()"
   ]
  },
  {
   "cell_type": "markdown",
   "metadata": {
    "id": "q7WCfHHzk0m1"
   },
   "source": [
    "Let's work only with the following features for simplicity:   \n",
    "\n",
    "**Categorical**   \n",
    "- Sex\n",
    "- Embarked\n",
    "\n",
    "**Numerical**  \n",
    "- Survived: *our target feature* (0 = No, 1 = Yes)\n",
    "- Pclass: Ticket class (1 = 1st, 2 = 2nd, 3 = 3rd)\n",
    "- Age: Age in years\n",
    " \n",
    "More detailed info: https://www.kaggle.com/c/titanic"
   ]
  },
  {
   "cell_type": "code",
   "execution_count": null,
   "metadata": {
    "executionInfo": {
     "elapsed": 533,
     "status": "ok",
     "timestamp": 1618374883434,
     "user": {
      "displayName": "Robert Barcik",
      "photoUrl": "https://lh3.googleusercontent.com/a-/AOh14GgV4kbB-8oZS-p-vhI2xma0v0GgvlaFuZ5ZLU_nvG8=s64",
      "userId": "12944327394729832066"
     },
     "user_tz": -120
    },
    "id": "sd2M3lHQk0m2"
   },
   "outputs": [],
   "source": [
    "# Let's keep only the desired columns\n",
    "train = train[['Sex','Embarked','Pclass', 'Age','Survived']]"
   ]
  },
  {
   "cell_type": "code",
   "execution_count": null,
   "metadata": {
    "colab": {
     "base_uri": "https://localhost:8080/"
    },
    "executionInfo": {
     "elapsed": 558,
     "status": "ok",
     "timestamp": 1618374887369,
     "user": {
      "displayName": "Robert Barcik",
      "photoUrl": "https://lh3.googleusercontent.com/a-/AOh14GgV4kbB-8oZS-p-vhI2xma0v0GgvlaFuZ5ZLU_nvG8=s64",
      "userId": "12944327394729832066"
     },
     "user_tz": -120
    },
    "id": "3Ka0DLdTk0m3",
    "outputId": "2c8a012f-08bd-4524-dc84-26f6c091ed7b"
   },
   "outputs": [],
   "source": [
    "train.shape"
   ]
  },
  {
   "cell_type": "code",
   "execution_count": null,
   "metadata": {
    "colab": {
     "base_uri": "https://localhost:8080/"
    },
    "executionInfo": {
     "elapsed": 619,
     "status": "ok",
     "timestamp": 1618374888749,
     "user": {
      "displayName": "Robert Barcik",
      "photoUrl": "https://lh3.googleusercontent.com/a-/AOh14GgV4kbB-8oZS-p-vhI2xma0v0GgvlaFuZ5ZLU_nvG8=s64",
      "userId": "12944327394729832066"
     },
     "user_tz": -120
    },
    "id": "cHLemKl1k0m4",
    "outputId": "dfcb7341-9c35-4521-bdb5-75aa2164e48d"
   },
   "outputs": [],
   "source": [
    "# Check for missing values\n",
    "train.isna().sum()"
   ]
  },
  {
   "cell_type": "markdown",
   "metadata": {
    "id": "kgbZZoa7k0m5"
   },
   "source": [
    "For simplicity, we drop any row containing missing values. \n",
    "\n",
    "**Note**   \n",
    "If you later want to experiment with composite transformers, comment out this cell and include also missing value imputation."
   ]
  },
  {
   "cell_type": "code",
   "execution_count": null,
   "metadata": {
    "executionInfo": {
     "elapsed": 547,
     "status": "ok",
     "timestamp": 1618374892058,
     "user": {
      "displayName": "Robert Barcik",
      "photoUrl": "https://lh3.googleusercontent.com/a-/AOh14GgV4kbB-8oZS-p-vhI2xma0v0GgvlaFuZ5ZLU_nvG8=s64",
      "userId": "12944327394729832066"
     },
     "user_tz": -120
    },
    "id": "n18Aaofzk0m6"
   },
   "outputs": [],
   "source": [
    "train = train.dropna(axis=0)\n",
    "train.head()"
   ]
  },
  {
   "cell_type": "markdown",
   "metadata": {
    "id": "iPSNoOLBk0m6"
   },
   "source": [
    "## Feature Engineering\n",
    "With our current knowledge, we can try to individually implement various transformers from Scikit Learn. Let's not forget to create a holdout set!"
   ]
  },
  {
   "cell_type": "code",
   "execution_count": null,
   "metadata": {
    "executionInfo": {
     "elapsed": 1186,
     "status": "ok",
     "timestamp": 1618374902835,
     "user": {
      "displayName": "Robert Barcik",
      "photoUrl": "https://lh3.googleusercontent.com/a-/AOh14GgV4kbB-8oZS-p-vhI2xma0v0GgvlaFuZ5ZLU_nvG8=s64",
      "userId": "12944327394729832066"
     },
     "user_tz": -120
    },
    "id": "xESayijIk0m7"
   },
   "outputs": [],
   "source": [
    "import numpy as np\n",
    "from sklearn import preprocessing\n",
    "from sklearn.model_selection import train_test_split\n",
    "\n",
    "X_train, X_test, y_train, y_test = train_test_split(train[['Pclass', 'Age', 'Sex', 'Embarked']],\n",
    "                                                    train['Survived'], \n",
    "                                                    test_size=0.2, \n",
    "                                                    random_state=42)"
   ]
  },
  {
   "cell_type": "markdown",
   "metadata": {
    "id": "a7D0fIZYk0m8"
   },
   "source": [
    "### Numerical Features\n",
    "The only numerical features we have are 'Pclass' and 'Age'.  \n",
    "Let's scale these two features using `MinMaxScaler()`."
   ]
  },
  {
   "cell_type": "code",
   "execution_count": null,
   "metadata": {
    "colab": {
     "base_uri": "https://localhost:8080/"
    },
    "executionInfo": {
     "elapsed": 550,
     "status": "ok",
     "timestamp": 1618374904389,
     "user": {
      "displayName": "Robert Barcik",
      "photoUrl": "https://lh3.googleusercontent.com/a-/AOh14GgV4kbB-8oZS-p-vhI2xma0v0GgvlaFuZ5ZLU_nvG8=s64",
      "userId": "12944327394729832066"
     },
     "user_tz": -120
    },
    "id": "m9kbMJCSk0m8",
    "outputId": "09545a75-2b3c-43b6-ad2b-19ed5a73c7b8"
   },
   "outputs": [],
   "source": [
    "scaler = preprocessing.MinMaxScaler()\n",
    "scaler.fit(X_train[['Pclass', 'Age']])\n",
    "X_train_transformed_numerical = scaler.transform(X_train[['Pclass', 'Age']])\n",
    "X_test_transformed_numerical = scaler.transform(X_test[['Pclass', 'Age']])\n",
    "\n",
    "print(X_train_transformed_numerical.shape)\n",
    "print(X_test_transformed_numerical.shape)"
   ]
  },
  {
   "cell_type": "markdown",
   "metadata": {
    "id": "qFttk2tTk0m9"
   },
   "source": [
    "### Categorical Features\n",
    "The categorical features we have are 'Sex' and 'Embarked'.   \n",
    "We can simply one-hot encode these using `OneHotEncoder()`."
   ]
  },
  {
   "cell_type": "code",
   "execution_count": null,
   "metadata": {
    "colab": {
     "base_uri": "https://localhost:8080/"
    },
    "executionInfo": {
     "elapsed": 582,
     "status": "ok",
     "timestamp": 1618374907682,
     "user": {
      "displayName": "Robert Barcik",
      "photoUrl": "https://lh3.googleusercontent.com/a-/AOh14GgV4kbB-8oZS-p-vhI2xma0v0GgvlaFuZ5ZLU_nvG8=s64",
      "userId": "12944327394729832066"
     },
     "user_tz": -120
    },
    "id": "GHS0H6b-k0m-",
    "outputId": "ae61e64e-b6ef-437b-ebc0-45f588051fa4"
   },
   "outputs": [],
   "source": [
    "encoder = preprocessing.OneHotEncoder(sparse=False)\n",
    "encoder.fit(X_train[['Sex', 'Embarked']])\n",
    "X_train_transformed_categorical = encoder.transform(X_train[['Sex', 'Embarked']])\n",
    "X_test_transformed_categorical = encoder.transform(X_test[['Sex', 'Embarked']])\n",
    "\n",
    "print(X_train_transformed_categorical.shape)\n",
    "print(X_test_transformed_categorical.shape)"
   ]
  },
  {
   "cell_type": "markdown",
   "metadata": {
    "id": "Oxxpz6Bpk0m_"
   },
   "source": [
    "## HANDS-ON 1: Baseline Model & Model Evaluation\n",
    "It's time for our first exercise! \n",
    "Before, let's concatenate the transformed numerical and categorical features into a single dataframe."
   ]
  },
  {
   "cell_type": "code",
   "execution_count": null,
   "metadata": {
    "colab": {
     "base_uri": "https://localhost:8080/"
    },
    "executionInfo": {
     "elapsed": 528,
     "status": "ok",
     "timestamp": 1618374916364,
     "user": {
      "displayName": "Robert Barcik",
      "photoUrl": "https://lh3.googleusercontent.com/a-/AOh14GgV4kbB-8oZS-p-vhI2xma0v0GgvlaFuZ5ZLU_nvG8=s64",
      "userId": "12944327394729832066"
     },
     "user_tz": -120
    },
    "id": "px3uj8Qbk0m_",
    "outputId": "10f85d2a-7e31-4d66-a979-0600d9897b26"
   },
   "outputs": [],
   "source": [
    "X_train_transformed = np.concatenate((X_train_transformed_numerical,X_train_transformed_categorical), axis = 1)\n",
    "X_test_transformed = np.concatenate((X_test_transformed_numerical,X_test_transformed_categorical), axis = 1)\n",
    "\n",
    "print(X_train_transformed.shape)\n",
    "print(X_test_transformed.shape)"
   ]
  },
  {
   "cell_type": "code",
   "execution_count": null,
   "metadata": {
    "executionInfo": {
     "elapsed": 528,
     "status": "ok",
     "timestamp": 1618374971330,
     "user": {
      "displayName": "Robert Barcik",
      "photoUrl": "https://lh3.googleusercontent.com/a-/AOh14GgV4kbB-8oZS-p-vhI2xma0v0GgvlaFuZ5ZLU_nvG8=s64",
      "userId": "12944327394729832066"
     },
     "user_tz": -120
    },
    "id": "bkroeCgrk0nA"
   },
   "outputs": [],
   "source": [
    "# TASK 1: Fit sklearn.DummyClassifier to the transformed training set.  \n",
    "# Then, let the model predict for train (X_train_transformed) and holdout set (X_test_transformed).\n",
    "# Store the prediction as y_pred_TRAIN_DUMMY (training set) and as y_pred_HOLDOUT_DUMMY (holdout set).\n",
    "\n",
    "from sklearn.dummy import DummyClassifier\n"
   ]
  },
  {
   "cell_type": "code",
   "execution_count": null,
   "metadata": {
    "id": "tySjhxbZk0nA"
   },
   "outputs": [],
   "source": [
    "# OPTIONAL TASK 1: Think about a simple heuristic that can be used as a baseline. \n",
    "# One possibility is to use gender and for example predict that every men or every woman has survived.\n",
    "# You can store the result as y_pred_TRAIN_HEURISTIC and as y_pred_HOLDOUT_HEURISTIC.\n"
   ]
  },
  {
   "cell_type": "markdown",
   "metadata": {
    "id": "o4Cvwakdk0nB"
   },
   "source": [
    "Great! We have our first prediction! It is time to evaluate how good our model is using the [*sklearn.metrics* module.](   \n",
    "https://scikit-learn.org/stable/modules/classes.html#sklearn-metrics-metrics)"
   ]
  },
  {
   "cell_type": "code",
   "execution_count": null,
   "metadata": {
    "colab": {
     "base_uri": "https://localhost:8080/"
    },
    "executionInfo": {
     "elapsed": 548,
     "status": "ok",
     "timestamp": 1618375004083,
     "user": {
      "displayName": "Robert Barcik",
      "photoUrl": "https://lh3.googleusercontent.com/a-/AOh14GgV4kbB-8oZS-p-vhI2xma0v0GgvlaFuZ5ZLU_nvG8=s64",
      "userId": "12944327394729832066"
     },
     "user_tz": -120
    },
    "id": "zZ8NJe0sk0nC",
    "outputId": "44e7e03c-d5dd-4b41-b982-499fe0e741d9"
   },
   "outputs": [],
   "source": [
    "from sklearn import metrics\n",
    "\n",
    "#TASK 2A: Display ACCURACY on TRAIN set.\n",
    "\n",
    "#TASK 2B: Display ACCURACY on HOLDOUT set.\n",
    "\n",
    "#OPTIONAL TASK 2C: Can you think of a better measure than accuracy based on the domain problem? If yes, use it the same way."
   ]
  },
  {
   "cell_type": "markdown",
   "metadata": {
    "id": "s0z-ujkVk0nC"
   },
   "source": [
    "Great! Now we would also like to see the confusion matrix as it is always a good idea to visually confirm the quality of our predictions."
   ]
  },
  {
   "cell_type": "code",
   "execution_count": null,
   "metadata": {
    "colab": {
     "base_uri": "https://localhost:8080/"
    },
    "executionInfo": {
     "elapsed": 627,
     "status": "ok",
     "timestamp": 1618375239316,
     "user": {
      "displayName": "Robert Barcik",
      "photoUrl": "https://lh3.googleusercontent.com/a-/AOh14GgV4kbB-8oZS-p-vhI2xma0v0GgvlaFuZ5ZLU_nvG8=s64",
      "userId": "12944327394729832066"
     },
     "user_tz": -120
    },
    "id": "jmVEXZBCk0nC",
    "outputId": "88972c29-dfe1-440b-b8bb-6d998f0f4677"
   },
   "outputs": [],
   "source": [
    "#TASK 3: Display a CONFUSION MATRIX on HOLDOUT set. Hint: do not use plot_confusion_matrix but confusion_matrix only.\n"
   ]
  },
  {
   "cell_type": "markdown",
   "metadata": {
    "id": "BTrQnvV5k0nD"
   },
   "source": [
    "## HANDS-ON 2: Composite Estimators\n",
    "Let's nicely wrap our feature engineering and model fitting into a nice composite estimator. We will be very simplistic and only use two steps. \n",
    "They will not nest into each other at once."
   ]
  },
  {
   "cell_type": "markdown",
   "metadata": {
    "id": "f2qkLyyjk0nD"
   },
   "source": [
    "### Feature Engineering wrapped into ColumnTransformer\n",
    "The two feature transformations can be easily wrapped up into a single `ColumnTransformer()` object. This will ensure that our Feature Engineering is a bit **more robust and nicely encapsulated**. Section 6.1.4 [here](https://scikit-learn.org/stable/modules/compose.html#columntransformer-for-heterogeneous-data) showcases the exact application that we intend to create.\n",
    "\n"
   ]
  },
  {
   "cell_type": "code",
   "execution_count": null,
   "metadata": {
    "executionInfo": {
     "elapsed": 571,
     "status": "ok",
     "timestamp": 1618375452991,
     "user": {
      "displayName": "Robert Barcik",
      "photoUrl": "https://lh3.googleusercontent.com/a-/AOh14GgV4kbB-8oZS-p-vhI2xma0v0GgvlaFuZ5ZLU_nvG8=s64",
      "userId": "12944327394729832066"
     },
     "user_tz": -120
    },
    "id": "sCx1ZHutk0nE"
   },
   "outputs": [],
   "source": [
    "# TASK 3: Wrap MinMaxScaler and OneHotEncoder into a single ColumnTransformer. \n",
    "# The transformers should be applied to the respective numerical or categorical columns only.\n",
    "# Store the resulting composite as feature_engineering\n",
    "# Hint: Use the argument remainder='passthrough'\n",
    "\n",
    "from sklearn.compose import ColumnTransformer\n"
   ]
  },
  {
   "cell_type": "markdown",
   "metadata": {
    "id": "2mfU_j3Bk0nE"
   },
   "source": [
    "### Predictive Model Wrapped into Pipeline\n",
    "Let's now wrap the feature engineering and the model into a single Pipeline Composite estimator. Here is some pseudocode for this:\n",
    "``` \n",
    "entire_pipeline = feature_engineering -> model  \n",
    "``` \n",
    "\n",
    "Both components are already available. From the step above we can directly reuse the object `feature_engineering`. As model, we just call a new `DummyClassifier`, just as we did before."
   ]
  },
  {
   "cell_type": "code",
   "execution_count": null,
   "metadata": {
    "executionInfo": {
     "elapsed": 527,
     "status": "ok",
     "timestamp": 1618375619490,
     "user": {
      "displayName": "Robert Barcik",
      "photoUrl": "https://lh3.googleusercontent.com/a-/AOh14GgV4kbB-8oZS-p-vhI2xma0v0GgvlaFuZ5ZLU_nvG8=s64",
      "userId": "12944327394729832066"
     },
     "user_tz": -120
    },
    "id": "QeHFs8Mek0nF"
   },
   "outputs": [],
   "source": [
    "# TASK 4: Wrap the feature engineering and the predictive model (dummy) into a single Pipeline composite estimator. \n",
    "# Store the result as entire_pipeline.\n",
    "from sklearn.pipeline import Pipeline\n"
   ]
  },
  {
   "cell_type": "code",
   "execution_count": null,
   "metadata": {
    "colab": {
     "base_uri": "https://localhost:8080/"
    },
    "executionInfo": {
     "elapsed": 438,
     "status": "ok",
     "timestamp": 1618375706973,
     "user": {
      "displayName": "Robert Barcik",
      "photoUrl": "https://lh3.googleusercontent.com/a-/AOh14GgV4kbB-8oZS-p-vhI2xma0v0GgvlaFuZ5ZLU_nvG8=s64",
      "userId": "12944327394729832066"
     },
     "user_tz": -120
    },
    "id": "4yaNiSrltFVP",
    "outputId": "891f9e6d-dacb-4d9a-831a-6656226af834"
   },
   "outputs": [],
   "source": [
    "# TASK: Uncomment the line and try to train the pipeline.\n",
    "# Notice that we are using untransformed data again (X_train) as the pipeline contains all necessary transformers.\n",
    "\n",
    "# entire_pipeline.fit(X = X_train, y = y_train)"
   ]
  },
  {
   "cell_type": "code",
   "execution_count": null,
   "metadata": {
    "colab": {
     "base_uri": "https://localhost:8080/"
    },
    "executionInfo": {
     "elapsed": 543,
     "status": "ok",
     "timestamp": 1618375919025,
     "user": {
      "displayName": "Robert Barcik",
      "photoUrl": "https://lh3.googleusercontent.com/a-/AOh14GgV4kbB-8oZS-p-vhI2xma0v0GgvlaFuZ5ZLU_nvG8=s64",
      "userId": "12944327394729832066"
     },
     "user_tz": -120
    },
    "id": "mNMnLojMtoiC",
    "outputId": "bff6660c-7a04-4db2-f69f-919c31046153"
   },
   "outputs": [],
   "source": [
    "# Predict for training data\n",
    "y_pred_TRAIN_DUMMY = entire_pipeline.predict(X_train)\n",
    "\n",
    "# Predict for holdout data\n",
    "y_pred_HOLDOUT_DUMMY = entire_pipeline.predict(X_test)\n",
    "\n",
    "# Results should be the same as before\n",
    "print(metrics.accuracy_score(y_train, y_pred_TRAIN_DUMMY))\n",
    "\n",
    "# Display accuracy on holdout set.\n",
    "print(metrics.accuracy_score(y_test, y_pred_HOLDOUT_DUMMY))"
   ]
  },
  {
   "cell_type": "markdown",
   "metadata": {
    "id": "RFtyCYGWk0nF"
   },
   "source": [
    "**OPTIONAL TASK**   \n",
    "The notebook 'nice_pipeline' was made to exemplify some examples of more complex pipelines. Feel free to scroll through it and learn what the process of preparing a complex composite looks like. You can then come back here and try to implement various components. For example, if I would not drop rows with missing values at the beginning of this notebook, constructing a composite would get a bit trickier. "
   ]
  },
  {
   "cell_type": "markdown",
   "metadata": {
    "id": "6Aui4V07k0nG"
   },
   "source": [
    "## HANDS-ON 3: Tree-based Models & Hyperparameter Tuning\n",
    "Hold your constructed pipeline firmly! The only thing that we need to do now is to replace `DummyClassifier` with a proper learning model.   \n",
    "We can start with a decision tree."
   ]
  },
  {
   "cell_type": "markdown",
   "metadata": {
    "id": "qQpLSIHgk0nG"
   },
   "source": [
    "### Fitting a Learning Model – Decision Tree"
   ]
  },
  {
   "cell_type": "code",
   "execution_count": null,
   "metadata": {
    "colab": {
     "base_uri": "https://localhost:8080/"
    },
    "executionInfo": {
     "elapsed": 534,
     "status": "ok",
     "timestamp": 1618376076145,
     "user": {
      "displayName": "Robert Barcik",
      "photoUrl": "https://lh3.googleusercontent.com/a-/AOh14GgV4kbB-8oZS-p-vhI2xma0v0GgvlaFuZ5ZLU_nvG8=s64",
      "userId": "12944327394729832066"
     },
     "user_tz": -120
    },
    "id": "Qw-kQjzok0nG",
    "outputId": "578a6350-2b29-48fd-a607-3a88a65b272a"
   },
   "outputs": [],
   "source": [
    "# TASK 5: Reuse your composite and instead of a dummy, fit a decision tree with default parameters.\n",
    "# Store the result as dt_pipeline.\n",
    "from sklearn.tree import DecisionTreeClassifier\n",
    "\n",
    "# Train the pipeline\n",
    "# dt_pipeline.fit(X = X_train, y = y_train)"
   ]
  },
  {
   "cell_type": "code",
   "execution_count": null,
   "metadata": {
    "colab": {
     "base_uri": "https://localhost:8080/"
    },
    "executionInfo": {
     "elapsed": 521,
     "status": "ok",
     "timestamp": 1618376463480,
     "user": {
      "displayName": "Robert Barcik",
      "photoUrl": "https://lh3.googleusercontent.com/a-/AOh14GgV4kbB-8oZS-p-vhI2xma0v0GgvlaFuZ5ZLU_nvG8=s64",
      "userId": "12944327394729832066"
     },
     "user_tz": -120
    },
    "id": "qN8mjWwok0nH",
    "outputId": "817169d5-80ff-48b0-a81a-2146539704cb"
   },
   "outputs": [],
   "source": [
    "# TASK 5B: Let the pipeline predict for the training set. \n",
    "# Store the result as y_pred_TRAIN_DT.\n",
    "# Also, display accuracy.\n"
   ]
  },
  {
   "cell_type": "code",
   "execution_count": null,
   "metadata": {
    "colab": {
     "base_uri": "https://localhost:8080/"
    },
    "executionInfo": {
     "elapsed": 523,
     "status": "ok",
     "timestamp": 1618376518224,
     "user": {
      "displayName": "Robert Barcik",
      "photoUrl": "https://lh3.googleusercontent.com/a-/AOh14GgV4kbB-8oZS-p-vhI2xma0v0GgvlaFuZ5ZLU_nvG8=s64",
      "userId": "12944327394729832066"
     },
     "user_tz": -120
    },
    "id": "O9JQW5Tok0nH",
    "outputId": "f342f8af-f07a-4f65-e4c1-36ee6dc67c19"
   },
   "outputs": [],
   "source": [
    "# TASK 5C: Let the pipeline predict for the holdout set. \n",
    "# Store the result as y_pred_HOLDOUT_DT.\n",
    "# Also, display accuracy.\n"
   ]
  },
  {
   "cell_type": "markdown",
   "metadata": {
    "id": "KYn8-Bx-k0nI"
   },
   "source": [
    "Looking at the accuracy on training and holdout set, what can you infer about over model? Will it generalize well?"
   ]
  },
  {
   "cell_type": "code",
   "execution_count": null,
   "metadata": {
    "colab": {
     "base_uri": "https://localhost:8080/"
    },
    "executionInfo": {
     "elapsed": 2297,
     "status": "ok",
     "timestamp": 1618376658900,
     "user": {
      "displayName": "Robert Barcik",
      "photoUrl": "https://lh3.googleusercontent.com/a-/AOh14GgV4kbB-8oZS-p-vhI2xma0v0GgvlaFuZ5ZLU_nvG8=s64",
      "userId": "12944327394729832066"
     },
     "user_tz": -120
    },
    "id": "o5ghSRY7k0nI",
    "outputId": "a271453e-1743-48c7-9c4d-5e5077791d73"
   },
   "outputs": [],
   "source": [
    "# OPTIONAL TASK 6: Do the same steps with RandomForest with default parameters. \n",
    "# Does the RandomForest display similar results as decision tree? If not, why?\n",
    "from sklearn.ensemble import RandomForestClassifier\n"
   ]
  },
  {
   "cell_type": "markdown",
   "metadata": {
    "id": "C48pxfJak0nI"
   },
   "source": [
    "### Tuning Hyperparameters of our Decision Tree\n",
    "Time to improve the performance of our learning model by finding its optimal set of hyperparameters.  \n",
    "We start by examining **which hyperparameters are available** in our decision tree pipeline."
   ]
  },
  {
   "cell_type": "code",
   "execution_count": null,
   "metadata": {
    "colab": {
     "base_uri": "https://localhost:8080/"
    },
    "executionInfo": {
     "elapsed": 548,
     "status": "ok",
     "timestamp": 1618377108933,
     "user": {
      "displayName": "Robert Barcik",
      "photoUrl": "https://lh3.googleusercontent.com/a-/AOh14GgV4kbB-8oZS-p-vhI2xma0v0GgvlaFuZ5ZLU_nvG8=s64",
      "userId": "12944327394729832066"
     },
     "user_tz": -120
    },
    "id": "QxSoArYeyUHp",
    "outputId": "8aaa62f8-2915-4d14-f4f9-e3c01819606a"
   },
   "outputs": [],
   "source": [
    "dt_pipeline.get_params()"
   ]
  },
  {
   "cell_type": "markdown",
   "metadata": {
    "id": "iQ6o3OUCy8wB"
   },
   "source": [
    "We would like to tune `max_depth` and `min_samples_split`.  \n",
    "Notice that to access them, we also need to navigate within the composite and call them as **`decision_tree`**`__max_depth`.  "
   ]
  },
  {
   "cell_type": "code",
   "execution_count": null,
   "metadata": {
    "executionInfo": {
     "elapsed": 532,
     "status": "ok",
     "timestamp": 1618377645004,
     "user": {
      "displayName": "Robert Barcik",
      "photoUrl": "https://lh3.googleusercontent.com/a-/AOh14GgV4kbB-8oZS-p-vhI2xma0v0GgvlaFuZ5ZLU_nvG8=s64",
      "userId": "12944327394729832066"
     },
     "user_tz": -120
    },
    "id": "R10ez3ySk0nJ"
   },
   "outputs": [],
   "source": [
    "# TASK 7: Define a grid through which we should search. \n",
    "# Tune parameters: max_depth and min_samples_split.\n",
    "# The values which you pick as parameters are up to you. You can think about them intuitively.\n"
   ]
  },
  {
   "cell_type": "code",
   "execution_count": null,
   "metadata": {
    "colab": {
     "base_uri": "https://localhost:8080/"
    },
    "executionInfo": {
     "elapsed": 4854,
     "status": "ok",
     "timestamp": 1618377651214,
     "user": {
      "displayName": "Robert Barcik",
      "photoUrl": "https://lh3.googleusercontent.com/a-/AOh14GgV4kbB-8oZS-p-vhI2xma0v0GgvlaFuZ5ZLU_nvG8=s64",
      "userId": "12944327394729832066"
     },
     "user_tz": -120
    },
    "id": "QPKhg8T6k0nJ",
    "outputId": "8d47f4c2-0b3d-41c5-b020-41dc0867cdd2"
   },
   "outputs": [],
   "source": [
    "from sklearn import tree\n",
    "from sklearn.model_selection import GridSearchCV\n",
    "\n",
    "# Model\n",
    "dt_pipeline\n",
    "\n",
    "# Searching strategy, providing grid\n",
    "tuning = GridSearchCV(dt_pipeline, param_grid)\n",
    "\n",
    "# Train\n",
    "tuning.fit(X_train, y_train)"
   ]
  },
  {
   "cell_type": "code",
   "execution_count": null,
   "metadata": {
    "colab": {
     "base_uri": "https://localhost:8080/"
    },
    "executionInfo": {
     "elapsed": 551,
     "status": "ok",
     "timestamp": 1618377655915,
     "user": {
      "displayName": "Robert Barcik",
      "photoUrl": "https://lh3.googleusercontent.com/a-/AOh14GgV4kbB-8oZS-p-vhI2xma0v0GgvlaFuZ5ZLU_nvG8=s64",
      "userId": "12944327394729832066"
     },
     "user_tz": -120
    },
    "id": "83CfJwuozR8p",
    "outputId": "8802065d-d9cc-495a-eab0-a51d13be8108"
   },
   "outputs": [],
   "source": [
    "# Let's get the best parameters\n",
    "tuning.best_params_"
   ]
  },
  {
   "cell_type": "code",
   "execution_count": null,
   "metadata": {
    "colab": {
     "base_uri": "https://localhost:8080/"
    },
    "executionInfo": {
     "elapsed": 535,
     "status": "ok",
     "timestamp": 1618377616146,
     "user": {
      "displayName": "Robert Barcik",
      "photoUrl": "https://lh3.googleusercontent.com/a-/AOh14GgV4kbB-8oZS-p-vhI2xma0v0GgvlaFuZ5ZLU_nvG8=s64",
      "userId": "12944327394729832066"
     },
     "user_tz": -120
    },
    "id": "8Fl4UVR9k0nJ",
    "outputId": "4fe7d719-b8fa-4009-e730-c9acf6c33823"
   },
   "outputs": [],
   "source": [
    "# TASK 8: Use the best setting of the two hyperparameters and fit a optimized decision tree. \n",
    "# Hint: Reuse the pipeline and when declaring it, specify the params.\n",
    "# Store it as dt_pipeline_tuned.\n",
    "\n",
    "... \n",
    "\n",
    "# Train\n",
    "dt_pipeline_tuned.fit(X_train, y_train)"
   ]
  },
  {
   "cell_type": "code",
   "execution_count": null,
   "metadata": {
    "colab": {
     "base_uri": "https://localhost:8080/"
    },
    "executionInfo": {
     "elapsed": 530,
     "status": "ok",
     "timestamp": 1618377619616,
     "user": {
      "displayName": "Robert Barcik",
      "photoUrl": "https://lh3.googleusercontent.com/a-/AOh14GgV4kbB-8oZS-p-vhI2xma0v0GgvlaFuZ5ZLU_nvG8=s64",
      "userId": "12944327394729832066"
     },
     "user_tz": -120
    },
    "id": "T7GNUdWTk0nK",
    "outputId": "cb944eca-7c5f-4265-9f43-d90acefa4bd8"
   },
   "outputs": [],
   "source": [
    "# TASK 8B: Display accuracy on the training set of the optimized decision tree.\n"
   ]
  },
  {
   "cell_type": "code",
   "execution_count": null,
   "metadata": {
    "colab": {
     "base_uri": "https://localhost:8080/"
    },
    "executionInfo": {
     "elapsed": 577,
     "status": "ok",
     "timestamp": 1618377620888,
     "user": {
      "displayName": "Robert Barcik",
      "photoUrl": "https://lh3.googleusercontent.com/a-/AOh14GgV4kbB-8oZS-p-vhI2xma0v0GgvlaFuZ5ZLU_nvG8=s64",
      "userId": "12944327394729832066"
     },
     "user_tz": -120
    },
    "id": "bpYLJ1q2k0nK",
    "outputId": "bb9813ef-ee82-4978-a74d-d14120e193c1"
   },
   "outputs": [],
   "source": [
    "# TASK 8C: Display accuracy on the holdout set of the optimized decision tree.\n"
   ]
  },
  {
   "cell_type": "markdown",
   "metadata": {
    "id": "DgVkGV9qk0nK"
   },
   "source": [
    "Does the optimized decision tree perform better then the one with default parameters?"
   ]
  },
  {
   "cell_type": "markdown",
   "metadata": {
    "id": "dddsxUaYk0nL"
   },
   "source": [
    "### Optional Advanced TASK: Tuning Random Forest\n",
    "When you are tuning a more complex model, it is good practice to search available literature on which hyperparameters should be tuned. Below I have predefined some. You can play around with the grid, for example expand or narrow it. Keep in mind that as our feature set is extremely limited, its hard for hyperparameter tuning to arrive at something meaningful."
   ]
  },
  {
   "cell_type": "code",
   "execution_count": null,
   "metadata": {
    "colab": {
     "base_uri": "https://localhost:8080/"
    },
    "executionInfo": {
     "elapsed": 168327,
     "status": "ok",
     "timestamp": 1618378569236,
     "user": {
      "displayName": "Robert Barcik",
      "photoUrl": "https://lh3.googleusercontent.com/a-/AOh14GgV4kbB-8oZS-p-vhI2xma0v0GgvlaFuZ5ZLU_nvG8=s64",
      "userId": "12944327394729832066"
     },
     "user_tz": -120
    },
    "id": "pa-zPU0gk0nL",
    "outputId": "958dbb7c-0250-4da9-8c50-0ab7712b2af1"
   },
   "outputs": [],
   "source": [
    "# OPTIONAL TASK 9\n",
    "from sklearn.ensemble import RandomForestClassifier\n",
    "from sklearn.model_selection import GridSearchCV\n",
    "\n",
    "# Define a pipeline\n",
    "rf_pipeline = Pipeline([('feature_engineering', feature_engineering), ('random_forest', RandomForestClassifier())])\n",
    "\n",
    "# Create the parameter grid based on the results of random search \n",
    "param_grid_rf = {\n",
    "    'random_forest__bootstrap': [True, False],\n",
    "    'random_forest__max_depth': [3, 5, 10, 15],\n",
    "    'random_forest__max_features': [2, 3],\n",
    "    'random_forest__min_samples_leaf': [3, 4, 5],\n",
    "    'random_forest__min_samples_split': [5, 8, 10, 12],\n",
    "    'random_forest__n_estimators': [5, 10, 15, 20, 25]\n",
    "}\n",
    "# Create a based model\n",
    "rf = RandomForestClassifier()\n",
    "# Instantiate the grid search model\n",
    "grid_search = GridSearchCV(estimator = rf_pipeline, \n",
    "                           param_grid = param_grid_rf, \n",
    "                           cv = 3, \n",
    "                           n_jobs = -1, \n",
    "                           verbose = 2)\n",
    "\n",
    "# Searching strategy, providing grid\n",
    "tuning_rf = GridSearchCV(rf_pipeline, param_grid_rf)\n",
    "\n",
    "# Train\n",
    "tuning_rf.fit(X_train, y_train)\n",
    "\n",
    "# Cross-validated score (more robust than holdout set most likely)\n",
    "print(tuning_rf.best_score_)\n",
    "print(tuning_rf.best_params_)"
   ]
  },
  {
   "cell_type": "markdown",
   "metadata": {
    "id": "6doV7qmH1HUp"
   },
   "source": [
    "### Optional Advanced TASK: Check Kaggle competitions and join one of them!  \n",
    "https://www.kaggle.com/"
   ]
  },
  {
   "cell_type": "code",
   "execution_count": null,
   "metadata": {},
   "outputs": [],
   "source": []
  }
 ],
 "metadata": {
  "colab": {
   "collapsed_sections": [],
   "name": "supervised_learning.ipynb",
   "provenance": []
  },
  "kernelspec": {
   "display_name": "Python 3",
   "language": "python",
   "name": "python3"
  },
  "language_info": {
   "codemirror_mode": {
    "name": "ipython",
    "version": 3
   },
   "file_extension": ".py",
   "mimetype": "text/x-python",
   "name": "python",
   "nbconvert_exporter": "python",
   "pygments_lexer": "ipython3",
   "version": "3.7.1"
  }
 },
 "nbformat": 4,
 "nbformat_minor": 4
}
