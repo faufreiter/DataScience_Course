{
 "cells": [
  {
   "cell_type": "markdown",
   "metadata": {},
   "source": [
    "## Introduction to Data Science\n",
    "\n",
    "### Dashboarding and interactive data\n",
    "\n",
    "#### Based on [this Plotly post](https://medium.com/@drimik99/a-python-programmers-guide-to-dashboarding-part-1-8db0c48eee9d), [this streamlit post](https://towardsdatascience.com/coding-ml-tools-like-you-code-ml-models-ddba3357eace) and these comparisons [ (1) ](https://medium.datadriveninvestor.com/streamlit-vs-dash-vs-voil%C3%A0-vs-panel-battle-of-the-python-dashboarding-giants-177c40b9ea57#8026) and [ (2) ](https://towardsdatascience.com/plotly-dash-vs-streamlit-which-is-the-best-library-for-building-data-dashboard-web-apps-97d7c98b938c)between platforms\n",
    "\n",
    "+ #### [Dash Plotly](https://plotly.com/dash/)  \n",
    "+ #### [Streamlit](https://streamlit.io/)  \n",
    "+ #### [Voila](https://github.com/voila-dashboards/voila)  \n",
    "+ #### [Panel](https://pythonrepo.com/repo/holoviz-panel-python-administrative-interfaces)  "
   ]
  },
  {
   "cell_type": "markdown",
   "metadata": {},
   "source": [
    "### Dash Plotly\n",
    "\n",
    "#### Structure of the code"
   ]
  },
  {
   "cell_type": "markdown",
   "metadata": {},
   "source": [
    "Imports"
   ]
  },
  {
   "cell_type": "code",
   "execution_count": 2,
   "metadata": {},
   "outputs": [],
   "source": [
    "import json\n",
    "import datetime\n",
    "import operator\n",
    "import os\n",
    "import base64\n",
    "import io\n",
    "\n",
    "import numpy as np\n",
    "import pandas as pd\n",
    "import matplotlib.pyplot as plt\n",
    "\n",
    "import plotly as py\n",
    "import plotly.graph_objs as go\n",
    "import plotly.figure_factory as ff\n",
    "\n",
    "import dash\n",
    "import dash.dependencies\n",
    "import dash_html_components as html\n",
    "import dash_core_components as dcc\n",
    "import dash_table_experiments as dte\n",
    "from dash.dependencies import Input, Output, State\n",
    "\n",
    "import plotly\n",
    "\n",
    "from IPython.display import Image, HTML, IFrame, FileLink, FileLinks #needed to render in notebook\n",
    "from IPython.core.display import display"
   ]
  },
  {
   "cell_type": "markdown",
   "metadata": {},
   "source": [
    "#### Application"
   ]
  },
  {
   "cell_type": "code",
   "execution_count": 3,
   "metadata": {},
   "outputs": [],
   "source": [
    "app = dash.Dash()\n",
    "app.scripts.config.serve_locally = True\n",
    "app.config['suppress_callback_exceptions'] = True"
   ]
  },
  {
   "cell_type": "markdown",
   "metadata": {},
   "source": [
    "#### Layout"
   ]
  },
  {
   "cell_type": "code",
   "execution_count": 4,
   "metadata": {},
   "outputs": [],
   "source": [
    "app.layout = html.Div([html.H5(\"Upload Files\"),\n",
    "                       dcc.Upload(id='upload-data',\n",
    "                                  children=html.Div(['Drag and Drop or ',\n",
    "                                                     html.A('Select Files')\n",
    "                                                    ]),\n",
    "                                  style={'width': '100%',\n",
    "                                         'height': '60px',\n",
    "                                         'lineHeight': '60px',\n",
    "                                         'borderWidth': '1px',\n",
    "                                         'borderStyle': 'dashed',\n",
    "                                         'borderRadius': '5px',\n",
    "                                         'textAlign': 'center',\n",
    "                                         'margin': '10px'},\n",
    "                                  multiple=False),\n",
    "                       html.Br(),\n",
    "                       html.Button(id='propagate-button',\n",
    "                                   n_clicks=0,\n",
    "                                   children='Propagate Table Data'),\n",
    "                       html.Br(),\n",
    "                       html.H5(\"Filter Column\"),\n",
    "                       dcc.Dropdown(id='dropdown_table_filterColumn',\n",
    "                                    multi = False,\n",
    "                                    placeholder='Filter Column'),\n",
    "                       html.Br(),\n",
    "                       html.H5(\"Updated Table\"),\n",
    "                       html.Div(dte.DataTable(rows=[{}], id='table'))\n",
    "])"
   ]
  },
  {
   "cell_type": "markdown",
   "metadata": {},
   "source": [
    "#### Functions"
   ]
  },
  {
   "cell_type": "code",
   "execution_count": 5,
   "metadata": {},
   "outputs": [],
   "source": [
    "# file upload function\n",
    "def parse_contents(contents, filename):\n",
    "    content_type, content_string = contents.split(',')\n",
    "\n",
    "    decoded = base64.b64decode(content_string)\n",
    "    try:\n",
    "        if 'csv' in filename:\n",
    "            # Assume that the user uploaded a CSV file\n",
    "            df = pd.read_csv(\n",
    "                io.StringIO(decoded.decode('utf-8')))\n",
    "        elif 'xls' in filename:\n",
    "            # Assume that the user uploaded an excel file\n",
    "            df = pd.read_excel(io.BytesIO(decoded))\n",
    "\n",
    "    except Exception as e:\n",
    "        print(e)\n",
    "        return None\n",
    "    return df"
   ]
  },
  {
   "cell_type": "code",
   "execution_count": 7,
   "metadata": {},
   "outputs": [],
   "source": [
    "# callback table creation\n",
    "@app.callback(Output('table', 'rows'),\n",
    "              [Input('upload-data', 'contents'),\n",
    "               Input('upload-data', 'filename')])\n",
    "def update_output(contents, filename):\n",
    "    if contents is not None:\n",
    "        df = parse_contents(contents, filename)\n",
    "        if df is not None:\n",
    "            return df.to_dict('records')\n",
    "        else:\n",
    "            return [{}]\n",
    "    else:\n",
    "        return [{}]\n",
    "\n",
    "\n",
    "#callback update options of filter dropdown\n",
    "@app.callback(Output('dropdown_table_filterColumn', 'options'),\n",
    "              [Input('propagate-button', 'n_clicks'),\n",
    "               Input('table', 'rows')])\n",
    "def update_filter_column_options(n_clicks_update, tablerows):\n",
    "    if n_clicks_update < 1:\n",
    "        print(\"df empty\")\n",
    "        return []\n",
    "\n",
    "    else:\n",
    "        dff = pd.DataFrame(tablerows) # <- problem! dff stays empty even though table was uploaded\n",
    "        print(\"updating... dff empty?:\", dff.empty) #result is True, labels stay empty\n",
    "        return [{'label': i, 'value': i} for i in sorted(list(dff))]"
   ]
  },
  {
   "cell_type": "markdown",
   "metadata": {},
   "source": [
    "#### CSS and start application"
   ]
  },
  {
   "cell_type": "code",
   "execution_count": null,
   "metadata": {},
   "outputs": [],
   "source": [
    "app.css.append_css({\"external_url\": \"https://codepen.io/chriddyp/pen/bWLwgP.css\"})\n",
    "\n",
    "if __name__ == '__main__':\n",
    "    app.run_server(debug=True)"
   ]
  }
 ],
 "metadata": {
  "kernelspec": {
   "display_name": "Python 3 (ipykernel)",
   "language": "python",
   "name": "python3"
  },
  "language_info": {
   "codemirror_mode": {
    "name": "ipython",
    "version": 3
   },
   "file_extension": ".py",
   "mimetype": "text/x-python",
   "name": "python",
   "nbconvert_exporter": "python",
   "pygments_lexer": "ipython3",
   "version": "3.8.10"
  }
 },
 "nbformat": 4,
 "nbformat_minor": 4
}
